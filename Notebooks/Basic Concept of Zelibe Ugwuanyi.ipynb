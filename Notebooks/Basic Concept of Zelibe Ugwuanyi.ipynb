{
 "cells": [
  {
   "cell_type": "markdown",
   "id": "29dfc929",
   "metadata": {},
   "source": [
    "# The Basic Concept of Zelibe Ugwuanyi Method\n",
    "*By: Iyas Yustira, Dena Supriyanto*\n",
    "\n",
    "**Reference**: [Zelibe, Samuel & Ugwuanyi, C. (2019). ON A NEW SOLUTION OF THE TRANSPORTATION PROBLEM](https://www.researchgate.net/publication/335972372_ON_A_NEW_SOLUTION_OF_THE_TRANSPORTATION_PROBLEM). \n",
    "\n",
    "## Model of a Transportation Problem"
   ]
  },
  {
   "cell_type": "markdown",
   "id": "9acb095a",
   "metadata": {},
   "source": [
    "$$Minimize \\hspace{0.3cm} Z = \\sum_{i=1}^{m} X_{ij} C_{ij}$$\n",
    "\n",
    "$$\\sum_{j=1}^n X_{ij} \\leq a_i, i = 1, 2, 3 \\dots, m \\hspace{0.3cm} (Demand \\hspace{0.3cm} constraint)$$\n",
    "\n",
    "$$\\sum_{i=1}^m X_{ij} \\geq b_j, j = 1, 2, 3, \\dots, n \\hspace{0.3cm} (Supply \\hspace{0.3cm} constraint) $$\n",
    "\n",
    "$$X_{ij} \\geq 0,1,2,3,\\dots,n$$"
   ]
  },
  {
   "cell_type": "markdown",
   "id": "bd97dc98",
   "metadata": {},
   "source": [
    "Where:\n",
    "* m is the number of resources.\n",
    "* n is the number of destinations.\n",
    "* $a_i$ is the capacity of i th source.\n",
    "* $b_j$ is the demand of j th destination.\n",
    "* $c_{ij}$ is the the unit transportation cost between $i_{th}$ source and $j_{th}$\n",
    "destination (in naira or as a distance in kilometers, miles, etc.)\n",
    "* $x_{ij}$ is the size of material transported between $i_{th}$ source and $j_{th}$\n",
    "destination (in tons, pounds, liters etc.)\n"
   ]
  },
  {
   "cell_type": "markdown",
   "id": "e370e4f3",
   "metadata": {},
   "source": [
    "A transportation problem is said to be unbalanced if and only if\n",
    "\n",
    "$$\\sum_{i=1} a_i \\neq \\sum_{i=1} b_j$$\n",
    "\n",
    "There are two cases:\n",
    "\n",
    "**Case (1)**\n",
    "$$\\sum_{i=1} a_i > \\sum_{i=1} b_j$$\n",
    "\n",
    "**Case (2)**\n",
    "$$\\sum_{i=1} a_i < \\sum_{i=1} b_j$$\n",
    "\n",
    "To balance the Transportation Problem,Introduce a dummy origin or source in the transportation table with a zero cost. The availability at this origin is:\n",
    "\n",
    "$$\\sum_{i=1} a_i - \\sum_{i=1} b_j = 0$$"
   ]
  },
  {
   "cell_type": "markdown",
   "id": "5fe746ab",
   "metadata": {},
   "source": [
    "## Table And Network Illustration\n",
    "1. The Transportation Network\n",
    "<img src=\"img/Transportation network.png\" width=350px>\n",
    "\n",
    "2. The Transportation Table\n",
    "<img src=\"img/Transportation Table.png\" width=350px>"
   ]
  },
  {
   "cell_type": "markdown",
   "id": "8c62a929",
   "metadata": {},
   "source": [
    "## Flowchart Solution of The Transportation Problem\n",
    "* The problem is formulated as a transportation model\n",
    "* Is the transportation model balanced?\n",
    "* If yes, go to next step else, add dummy to the rows or column.\n",
    "* Determine initial basic solutions.\n",
    "* Go to next step if the solution is optimized else Go to fourth step.\n",
    "* Using the optimal solution ,calculate the total transportation cost."
   ]
  },
  {
   "cell_type": "markdown",
   "id": "5e12e584",
   "metadata": {},
   "source": [
    "# NUMERICAL ILLUSTRATION"
   ]
  },
  {
   "cell_type": "markdown",
   "id": "9704dc73",
   "metadata": {},
   "source": [
    "Consider the table where $X_{ij}$ is the number of\n",
    "wheat (in tons) transported from each grain house to each mill $(i, j = 1, 2, 3)$. The total transportation cost for each route is the objective function. The solution is the number of tons of wheat to be transported from house to mill so as to minimize total cost of transportation."
   ]
  },
  {
   "cell_type": "code",
   "execution_count": 2,
   "id": "36bf3a47",
   "metadata": {},
   "outputs": [],
   "source": [
    "import pandas as pd\n",
    "import numpy as np\n",
    "import sys"
   ]
  },
  {
   "cell_type": "markdown",
   "id": "a35abfe2",
   "metadata": {},
   "source": [
    "## Transportation model"
   ]
  },
  {
   "cell_type": "code",
   "execution_count": 3,
   "id": "cf0effd9",
   "metadata": {},
   "outputs": [
    {
     "data": {
      "text/html": [
       "<div>\n",
       "<style scoped>\n",
       "    .dataframe tbody tr th:only-of-type {\n",
       "        vertical-align: middle;\n",
       "    }\n",
       "\n",
       "    .dataframe tbody tr th {\n",
       "        vertical-align: top;\n",
       "    }\n",
       "\n",
       "    .dataframe thead th {\n",
       "        text-align: right;\n",
       "    }\n",
       "</style>\n",
       "<table border=\"1\" class=\"dataframe\">\n",
       "  <thead>\n",
       "    <tr style=\"text-align: right;\">\n",
       "      <th></th>\n",
       "      <th>D1</th>\n",
       "      <th>D2</th>\n",
       "      <th>D3</th>\n",
       "      <th>Supply</th>\n",
       "    </tr>\n",
       "    <tr>\n",
       "      <th>Index</th>\n",
       "      <th></th>\n",
       "      <th></th>\n",
       "      <th></th>\n",
       "      <th></th>\n",
       "    </tr>\n",
       "  </thead>\n",
       "  <tbody>\n",
       "    <tr>\n",
       "      <th>S1</th>\n",
       "      <td>6</td>\n",
       "      <td>8</td>\n",
       "      <td>10</td>\n",
       "      <td>150</td>\n",
       "    </tr>\n",
       "    <tr>\n",
       "      <th>S2</th>\n",
       "      <td>7</td>\n",
       "      <td>11</td>\n",
       "      <td>11</td>\n",
       "      <td>175</td>\n",
       "    </tr>\n",
       "    <tr>\n",
       "      <th>S3</th>\n",
       "      <td>4</td>\n",
       "      <td>5</td>\n",
       "      <td>12</td>\n",
       "      <td>275</td>\n",
       "    </tr>\n",
       "    <tr>\n",
       "      <th>Demand</th>\n",
       "      <td>200</td>\n",
       "      <td>100</td>\n",
       "      <td>300</td>\n",
       "      <td>0</td>\n",
       "    </tr>\n",
       "  </tbody>\n",
       "</table>\n",
       "</div>"
      ],
      "text/plain": [
       "         D1   D2   D3  Supply\n",
       "Index                        \n",
       "S1        6    8   10     150\n",
       "S2        7   11   11     175\n",
       "S3        4    5   12     275\n",
       "Demand  200  100  300       0"
      ]
     },
     "execution_count": 3,
     "metadata": {},
     "output_type": "execute_result"
    }
   ],
   "source": [
    "d = {'Index': ['S1', 'S2', 'S3', 'Demand'], \n",
    "     'D1': [6, 7, 4, 200],\n",
    "     'D2': [8, 11, 5, 100],\n",
    "     'D3': [10, 11, 12, 300],\n",
    "     'Supply': [150, 175, 275, 0]}\n",
    "tm = pd.DataFrame(data=d)\n",
    "tm.set_index('Index', inplace=True)\n",
    "tm"
   ]
  },
  {
   "cell_type": "markdown",
   "id": "1739ca7a",
   "metadata": {},
   "source": [
    "## Check the balanced or unbalanced data"
   ]
  },
  {
   "cell_type": "code",
   "execution_count": 4,
   "id": "38af9fd0",
   "metadata": {},
   "outputs": [
    {
     "name": "stdout",
     "output_type": "stream",
     "text": [
      "Balanced data, total supply equal to total demand 600\n"
     ]
    }
   ],
   "source": [
    "a = tm.Supply.sum()\n",
    "b = tm.loc['Demand'].sum()\n",
    "if a > b : # case 1\n",
    "    print('Unbalanced data, total supply greater than total demand {:d} > {:d}'.format(a, b))\n",
    "elif a < b : # case 2\n",
    "    print('Unbalanced data, total supply less than total demand {:d} < {:d}'.format(a, b))\n",
    "else: # balanced data\n",
    "    print('Balanced data, total supply equal to total demand {:d}'.format(a))\n",
    "    pass"
   ]
  },
  {
   "cell_type": "code",
   "execution_count": 5,
   "id": "b1931f43",
   "metadata": {},
   "outputs": [
    {
     "data": {
      "text/html": [
       "<div>\n",
       "<style scoped>\n",
       "    .dataframe tbody tr th:only-of-type {\n",
       "        vertical-align: middle;\n",
       "    }\n",
       "\n",
       "    .dataframe tbody tr th {\n",
       "        vertical-align: top;\n",
       "    }\n",
       "\n",
       "    .dataframe thead th {\n",
       "        text-align: right;\n",
       "    }\n",
       "</style>\n",
       "<table border=\"1\" class=\"dataframe\">\n",
       "  <thead>\n",
       "    <tr style=\"text-align: right;\">\n",
       "      <th></th>\n",
       "      <th>D1</th>\n",
       "      <th>D2</th>\n",
       "      <th>D3</th>\n",
       "      <th>Supply</th>\n",
       "      <th>Penalty</th>\n",
       "    </tr>\n",
       "    <tr>\n",
       "      <th>Index</th>\n",
       "      <th></th>\n",
       "      <th></th>\n",
       "      <th></th>\n",
       "      <th></th>\n",
       "      <th></th>\n",
       "    </tr>\n",
       "  </thead>\n",
       "  <tbody>\n",
       "    <tr>\n",
       "      <th>S1</th>\n",
       "      <td>6.0</td>\n",
       "      <td>8.0</td>\n",
       "      <td>10.0</td>\n",
       "      <td>150.0</td>\n",
       "      <td>0.0</td>\n",
       "    </tr>\n",
       "    <tr>\n",
       "      <th>S2</th>\n",
       "      <td>7.0</td>\n",
       "      <td>11.0</td>\n",
       "      <td>11.0</td>\n",
       "      <td>175.0</td>\n",
       "      <td>0.0</td>\n",
       "    </tr>\n",
       "    <tr>\n",
       "      <th>S3</th>\n",
       "      <td>4.0</td>\n",
       "      <td>5.0</td>\n",
       "      <td>12.0</td>\n",
       "      <td>275.0</td>\n",
       "      <td>0.0</td>\n",
       "    </tr>\n",
       "    <tr>\n",
       "      <th>Demand</th>\n",
       "      <td>200.0</td>\n",
       "      <td>100.0</td>\n",
       "      <td>300.0</td>\n",
       "      <td>0.0</td>\n",
       "      <td>0.0</td>\n",
       "    </tr>\n",
       "    <tr>\n",
       "      <th>Penalty</th>\n",
       "      <td>0.0</td>\n",
       "      <td>0.0</td>\n",
       "      <td>0.0</td>\n",
       "      <td>0.0</td>\n",
       "      <td>0.0</td>\n",
       "    </tr>\n",
       "  </tbody>\n",
       "</table>\n",
       "</div>"
      ],
      "text/plain": [
       "            D1     D2     D3  Supply  Penalty\n",
       "Index                                        \n",
       "S1         6.0    8.0   10.0   150.0      0.0\n",
       "S2         7.0   11.0   11.0   175.0      0.0\n",
       "S3         4.0    5.0   12.0   275.0      0.0\n",
       "Demand   200.0  100.0  300.0     0.0      0.0\n",
       "Penalty    0.0    0.0    0.0     0.0      0.0"
      ]
     },
     "execution_count": 5,
     "metadata": {},
     "output_type": "execute_result"
    }
   ],
   "source": [
    "# determine rows and columns penalty\n",
    "tm['Penalty'] = np.zeros(tm.shape[0])\n",
    "tm.loc['Penalty'] = np.zeros(tm.shape[1])\n",
    "tm"
   ]
  },
  {
   "cell_type": "markdown",
   "id": "16dd38eb",
   "metadata": {},
   "source": [
    "## First iteration"
   ]
  },
  {
   "cell_type": "code",
   "execution_count": 6,
   "id": "8bead6df",
   "metadata": {},
   "outputs": [
    {
     "name": "stdout",
     "output_type": "stream",
     "text": [
      "Number of resources: 3 \n",
      "Number of destinations: 3\n"
     ]
    }
   ],
   "source": [
    "m = len(tm.index[:-2])\n",
    "n = len(tm.columns[:-2])\n",
    "\n",
    "print('Number of resources: {:d} \\nNumber of destinations: {:d}'.format(m, n))"
   ]
  },
  {
   "cell_type": "code",
   "execution_count": 7,
   "id": "3f11d35e",
   "metadata": {},
   "outputs": [],
   "source": [
    "# rows penalty\n",
    "for i in tm.index[:m]:\n",
    "    lc_r = tm.loc[i][:n].min()\n",
    "    tm.loc[i, 'Penalty'] = (tm.loc[i][:n] - lc_r).sum()+m\n",
    "\n",
    "# columns penalty\n",
    "for j in tm.columns[:m]:\n",
    "    lc_c = tm[j][:m].min()\n",
    "    tm.loc['Penalty', j] = (tm[j][:m] - lc_c).sum()+n"
   ]
  },
  {
   "cell_type": "code",
   "execution_count": 8,
   "id": "80965a77",
   "metadata": {},
   "outputs": [
    {
     "data": {
      "text/html": [
       "<div>\n",
       "<style scoped>\n",
       "    .dataframe tbody tr th:only-of-type {\n",
       "        vertical-align: middle;\n",
       "    }\n",
       "\n",
       "    .dataframe tbody tr th {\n",
       "        vertical-align: top;\n",
       "    }\n",
       "\n",
       "    .dataframe thead th {\n",
       "        text-align: right;\n",
       "    }\n",
       "</style>\n",
       "<table border=\"1\" class=\"dataframe\">\n",
       "  <thead>\n",
       "    <tr style=\"text-align: right;\">\n",
       "      <th></th>\n",
       "      <th>D1</th>\n",
       "      <th>D2</th>\n",
       "      <th>D3</th>\n",
       "      <th>Supply</th>\n",
       "      <th>Penalty</th>\n",
       "    </tr>\n",
       "    <tr>\n",
       "      <th>Index</th>\n",
       "      <th></th>\n",
       "      <th></th>\n",
       "      <th></th>\n",
       "      <th></th>\n",
       "      <th></th>\n",
       "    </tr>\n",
       "  </thead>\n",
       "  <tbody>\n",
       "    <tr>\n",
       "      <th>S1</th>\n",
       "      <td>6.0</td>\n",
       "      <td>8.0</td>\n",
       "      <td>10.0</td>\n",
       "      <td>150.0</td>\n",
       "      <td>9.0</td>\n",
       "    </tr>\n",
       "    <tr>\n",
       "      <th>S2</th>\n",
       "      <td>7.0</td>\n",
       "      <td>11.0</td>\n",
       "      <td>11.0</td>\n",
       "      <td>175.0</td>\n",
       "      <td>11.0</td>\n",
       "    </tr>\n",
       "    <tr>\n",
       "      <th>S3</th>\n",
       "      <td>4.0</td>\n",
       "      <td>5.0</td>\n",
       "      <td>12.0</td>\n",
       "      <td>275.0</td>\n",
       "      <td>12.0</td>\n",
       "    </tr>\n",
       "    <tr>\n",
       "      <th>Demand</th>\n",
       "      <td>200.0</td>\n",
       "      <td>100.0</td>\n",
       "      <td>300.0</td>\n",
       "      <td>0.0</td>\n",
       "      <td>0.0</td>\n",
       "    </tr>\n",
       "    <tr>\n",
       "      <th>Penalty</th>\n",
       "      <td>8.0</td>\n",
       "      <td>12.0</td>\n",
       "      <td>6.0</td>\n",
       "      <td>0.0</td>\n",
       "      <td>0.0</td>\n",
       "    </tr>\n",
       "  </tbody>\n",
       "</table>\n",
       "</div>"
      ],
      "text/plain": [
       "            D1     D2     D3  Supply  Penalty\n",
       "Index                                        \n",
       "S1         6.0    8.0   10.0   150.0      9.0\n",
       "S2         7.0   11.0   11.0   175.0     11.0\n",
       "S3         4.0    5.0   12.0   275.0     12.0\n",
       "Demand   200.0  100.0  300.0     0.0      0.0\n",
       "Penalty    8.0   12.0    6.0     0.0      0.0"
      ]
     },
     "execution_count": 8,
     "metadata": {},
     "output_type": "execute_result"
    }
   ],
   "source": [
    "tm"
   ]
  },
  {
   "cell_type": "code",
   "execution_count": 9,
   "id": "51b23e82",
   "metadata": {},
   "outputs": [
    {
     "name": "stdout",
     "output_type": "stream",
     "text": [
      "Alocation to S3 and D2\n"
     ]
    }
   ],
   "source": [
    "# determine x_ij for alocation cost\n",
    "max_rp = tm['Penalty'][:m].max()\n",
    "Si = tm['Penalty'][:m][tm['Penalty'][:m] == tm['Penalty'][:m].max()].index[0]\n",
    "\n",
    "max_cp = tm.loc['Penalty'][:n].max()\n",
    "Dj = tm.loc['Penalty'][:n][tm.loc['Penalty'][:n] == tm.loc['Penalty'][:n].max()].index[0]\n",
    "\n",
    "print('Alocation to {:s} and {:s}'.format(Si, Dj))"
   ]
  },
  {
   "cell_type": "code",
   "execution_count": 10,
   "id": "daf2804b",
   "metadata": {},
   "outputs": [
    {
     "name": "stdout",
     "output_type": "stream",
     "text": [
      "Cost: 500\n"
     ]
    }
   ],
   "source": [
    "# Alocation cost\n",
    "cost = []\n",
    "\n",
    "Xij = tm.loc[Si, Dj]\n",
    "sup = tm.loc[Si, 'Supply']\n",
    "dem = tm.loc['Demand', Dj]\n",
    "\n",
    "if sup > dem:\n",
    "    value = Xij*dem\n",
    "    cost.append(value)\n",
    "    tm.loc[Si, 'Supply'] = sup - dem\n",
    "    tm = tm.drop(Dj, axis=1)\n",
    "else:\n",
    "    value = Xij*sup\n",
    "    cost.append(value)\n",
    "    tm.loc['Demand', Dj] = dem - sup\n",
    "    tm = tm.drop(Si, axis=0)\n",
    "\n",
    "print('Cost: {:.0f}'.format(value))"
   ]
  },
  {
   "cell_type": "code",
   "execution_count": 11,
   "id": "6c89dfae",
   "metadata": {},
   "outputs": [
    {
     "data": {
      "text/html": [
       "<div>\n",
       "<style scoped>\n",
       "    .dataframe tbody tr th:only-of-type {\n",
       "        vertical-align: middle;\n",
       "    }\n",
       "\n",
       "    .dataframe tbody tr th {\n",
       "        vertical-align: top;\n",
       "    }\n",
       "\n",
       "    .dataframe thead th {\n",
       "        text-align: right;\n",
       "    }\n",
       "</style>\n",
       "<table border=\"1\" class=\"dataframe\">\n",
       "  <thead>\n",
       "    <tr style=\"text-align: right;\">\n",
       "      <th></th>\n",
       "      <th>D1</th>\n",
       "      <th>D3</th>\n",
       "      <th>Supply</th>\n",
       "      <th>Penalty</th>\n",
       "    </tr>\n",
       "    <tr>\n",
       "      <th>Index</th>\n",
       "      <th></th>\n",
       "      <th></th>\n",
       "      <th></th>\n",
       "      <th></th>\n",
       "    </tr>\n",
       "  </thead>\n",
       "  <tbody>\n",
       "    <tr>\n",
       "      <th>S1</th>\n",
       "      <td>6.0</td>\n",
       "      <td>10.0</td>\n",
       "      <td>150.0</td>\n",
       "      <td>9.0</td>\n",
       "    </tr>\n",
       "    <tr>\n",
       "      <th>S2</th>\n",
       "      <td>7.0</td>\n",
       "      <td>11.0</td>\n",
       "      <td>175.0</td>\n",
       "      <td>11.0</td>\n",
       "    </tr>\n",
       "    <tr>\n",
       "      <th>S3</th>\n",
       "      <td>4.0</td>\n",
       "      <td>12.0</td>\n",
       "      <td>175.0</td>\n",
       "      <td>12.0</td>\n",
       "    </tr>\n",
       "    <tr>\n",
       "      <th>Demand</th>\n",
       "      <td>200.0</td>\n",
       "      <td>300.0</td>\n",
       "      <td>0.0</td>\n",
       "      <td>0.0</td>\n",
       "    </tr>\n",
       "    <tr>\n",
       "      <th>Penalty</th>\n",
       "      <td>8.0</td>\n",
       "      <td>6.0</td>\n",
       "      <td>0.0</td>\n",
       "      <td>0.0</td>\n",
       "    </tr>\n",
       "  </tbody>\n",
       "</table>\n",
       "</div>"
      ],
      "text/plain": [
       "            D1     D3  Supply  Penalty\n",
       "Index                                 \n",
       "S1         6.0   10.0   150.0      9.0\n",
       "S2         7.0   11.0   175.0     11.0\n",
       "S3         4.0   12.0   175.0     12.0\n",
       "Demand   200.0  300.0     0.0      0.0\n",
       "Penalty    8.0    6.0     0.0      0.0"
      ]
     },
     "execution_count": 11,
     "metadata": {},
     "output_type": "execute_result"
    }
   ],
   "source": [
    "tm"
   ]
  },
  {
   "cell_type": "markdown",
   "id": "1af1e169",
   "metadata": {},
   "source": [
    "## Sceond Iteration"
   ]
  },
  {
   "cell_type": "code",
   "execution_count": 12,
   "id": "65a0f80d",
   "metadata": {},
   "outputs": [
    {
     "name": "stdout",
     "output_type": "stream",
     "text": [
      "Number of resources: 3 \n",
      "Number of destinations: 2\n"
     ]
    }
   ],
   "source": [
    "m = len(tm.index[:-2])\n",
    "n = len(tm.columns[:-2])\n",
    "\n",
    "print('Number of resources: {:d} \\nNumber of destinations: {:d}'.format(m, n))"
   ]
  },
  {
   "cell_type": "code",
   "execution_count": 13,
   "id": "4d87c747",
   "metadata": {},
   "outputs": [],
   "source": [
    "# rows penalty\n",
    "for i in tm.index[:m]:\n",
    "    lc_r = tm.loc[i][:n].min()\n",
    "    tm.loc[i, 'Penalty'] = (tm.loc[i][:n] - lc_r).sum()+m\n",
    "\n",
    "# columns penalty\n",
    "for j in tm.columns[:m]:\n",
    "    lc_c = tm[j][:m].min()\n",
    "    tm.loc['Penalty', j] = (tm[j][:m] - lc_c).sum()+n"
   ]
  },
  {
   "cell_type": "code",
   "execution_count": 14,
   "id": "84108486",
   "metadata": {
    "scrolled": true
   },
   "outputs": [
    {
     "data": {
      "text/html": [
       "<div>\n",
       "<style scoped>\n",
       "    .dataframe tbody tr th:only-of-type {\n",
       "        vertical-align: middle;\n",
       "    }\n",
       "\n",
       "    .dataframe tbody tr th {\n",
       "        vertical-align: top;\n",
       "    }\n",
       "\n",
       "    .dataframe thead th {\n",
       "        text-align: right;\n",
       "    }\n",
       "</style>\n",
       "<table border=\"1\" class=\"dataframe\">\n",
       "  <thead>\n",
       "    <tr style=\"text-align: right;\">\n",
       "      <th></th>\n",
       "      <th>D1</th>\n",
       "      <th>D3</th>\n",
       "      <th>Supply</th>\n",
       "      <th>Penalty</th>\n",
       "    </tr>\n",
       "    <tr>\n",
       "      <th>Index</th>\n",
       "      <th></th>\n",
       "      <th></th>\n",
       "      <th></th>\n",
       "      <th></th>\n",
       "    </tr>\n",
       "  </thead>\n",
       "  <tbody>\n",
       "    <tr>\n",
       "      <th>S1</th>\n",
       "      <td>6.0</td>\n",
       "      <td>10.0</td>\n",
       "      <td>150.0</td>\n",
       "      <td>7.0</td>\n",
       "    </tr>\n",
       "    <tr>\n",
       "      <th>S2</th>\n",
       "      <td>7.0</td>\n",
       "      <td>11.0</td>\n",
       "      <td>175.0</td>\n",
       "      <td>7.0</td>\n",
       "    </tr>\n",
       "    <tr>\n",
       "      <th>S3</th>\n",
       "      <td>4.0</td>\n",
       "      <td>12.0</td>\n",
       "      <td>175.0</td>\n",
       "      <td>11.0</td>\n",
       "    </tr>\n",
       "    <tr>\n",
       "      <th>Demand</th>\n",
       "      <td>200.0</td>\n",
       "      <td>300.0</td>\n",
       "      <td>0.0</td>\n",
       "      <td>0.0</td>\n",
       "    </tr>\n",
       "    <tr>\n",
       "      <th>Penalty</th>\n",
       "      <td>7.0</td>\n",
       "      <td>5.0</td>\n",
       "      <td>52.0</td>\n",
       "      <td>0.0</td>\n",
       "    </tr>\n",
       "  </tbody>\n",
       "</table>\n",
       "</div>"
      ],
      "text/plain": [
       "            D1     D3  Supply  Penalty\n",
       "Index                                 \n",
       "S1         6.0   10.0   150.0      7.0\n",
       "S2         7.0   11.0   175.0      7.0\n",
       "S3         4.0   12.0   175.0     11.0\n",
       "Demand   200.0  300.0     0.0      0.0\n",
       "Penalty    7.0    5.0    52.0      0.0"
      ]
     },
     "execution_count": 14,
     "metadata": {},
     "output_type": "execute_result"
    }
   ],
   "source": [
    "tm"
   ]
  },
  {
   "cell_type": "code",
   "execution_count": 15,
   "id": "4b996eba",
   "metadata": {},
   "outputs": [
    {
     "name": "stdout",
     "output_type": "stream",
     "text": [
      "Alocation to S3 and D1\n"
     ]
    }
   ],
   "source": [
    "# determine x_ij for alocation cost\n",
    "max_rp = tm['Penalty'][:m].max()\n",
    "Si = tm['Penalty'][:m][tm['Penalty'][:m] == tm['Penalty'][:m].max()].index[0]\n",
    "\n",
    "max_cp = tm.loc['Penalty'][:n].max()\n",
    "Dj = tm.loc['Penalty'][:n][tm.loc['Penalty'][:n] == tm.loc['Penalty'][:n].max()].index[0]\n",
    "\n",
    "print('Alocation to {:s} and {:s}'.format(Si, Dj))"
   ]
  },
  {
   "cell_type": "code",
   "execution_count": 16,
   "id": "383d323e",
   "metadata": {},
   "outputs": [
    {
     "name": "stdout",
     "output_type": "stream",
     "text": [
      "Cost: 700\n"
     ]
    }
   ],
   "source": [
    "# Alocation cost\n",
    "Xij = tm.loc[Si, Dj]\n",
    "sup = tm.loc[Si, 'Supply']\n",
    "dem = tm.loc['Demand', Dj]\n",
    "\n",
    "if sup > dem:\n",
    "    value = Xij*dem\n",
    "    cost.append(value)\n",
    "    tm.loc[Si, 'Supply'] = sup - dem\n",
    "    tm = tm.drop(Dj, axis=1)\n",
    "else:\n",
    "    value = Xij*sup\n",
    "    cost.append(value)\n",
    "    tm.loc['Demand', Dj] = dem - sup\n",
    "    tm = tm.drop(Si, axis=0)\n",
    "    \n",
    "print('Cost: {:.0f}'.format(value))"
   ]
  },
  {
   "cell_type": "code",
   "execution_count": 17,
   "id": "79975aa7",
   "metadata": {},
   "outputs": [
    {
     "data": {
      "text/html": [
       "<div>\n",
       "<style scoped>\n",
       "    .dataframe tbody tr th:only-of-type {\n",
       "        vertical-align: middle;\n",
       "    }\n",
       "\n",
       "    .dataframe tbody tr th {\n",
       "        vertical-align: top;\n",
       "    }\n",
       "\n",
       "    .dataframe thead th {\n",
       "        text-align: right;\n",
       "    }\n",
       "</style>\n",
       "<table border=\"1\" class=\"dataframe\">\n",
       "  <thead>\n",
       "    <tr style=\"text-align: right;\">\n",
       "      <th></th>\n",
       "      <th>D1</th>\n",
       "      <th>D3</th>\n",
       "      <th>Supply</th>\n",
       "      <th>Penalty</th>\n",
       "    </tr>\n",
       "    <tr>\n",
       "      <th>Index</th>\n",
       "      <th></th>\n",
       "      <th></th>\n",
       "      <th></th>\n",
       "      <th></th>\n",
       "    </tr>\n",
       "  </thead>\n",
       "  <tbody>\n",
       "    <tr>\n",
       "      <th>S1</th>\n",
       "      <td>6.0</td>\n",
       "      <td>10.0</td>\n",
       "      <td>150.0</td>\n",
       "      <td>7.0</td>\n",
       "    </tr>\n",
       "    <tr>\n",
       "      <th>S2</th>\n",
       "      <td>7.0</td>\n",
       "      <td>11.0</td>\n",
       "      <td>175.0</td>\n",
       "      <td>7.0</td>\n",
       "    </tr>\n",
       "    <tr>\n",
       "      <th>Demand</th>\n",
       "      <td>25.0</td>\n",
       "      <td>300.0</td>\n",
       "      <td>0.0</td>\n",
       "      <td>0.0</td>\n",
       "    </tr>\n",
       "    <tr>\n",
       "      <th>Penalty</th>\n",
       "      <td>7.0</td>\n",
       "      <td>5.0</td>\n",
       "      <td>52.0</td>\n",
       "      <td>0.0</td>\n",
       "    </tr>\n",
       "  </tbody>\n",
       "</table>\n",
       "</div>"
      ],
      "text/plain": [
       "           D1     D3  Supply  Penalty\n",
       "Index                                \n",
       "S1        6.0   10.0   150.0      7.0\n",
       "S2        7.0   11.0   175.0      7.0\n",
       "Demand   25.0  300.0     0.0      0.0\n",
       "Penalty   7.0    5.0    52.0      0.0"
      ]
     },
     "execution_count": 17,
     "metadata": {},
     "output_type": "execute_result"
    }
   ],
   "source": [
    "tm"
   ]
  },
  {
   "cell_type": "markdown",
   "id": "3b6626c9",
   "metadata": {},
   "source": [
    "## Third iteration"
   ]
  },
  {
   "cell_type": "code",
   "execution_count": 18,
   "id": "7788b2eb",
   "metadata": {},
   "outputs": [
    {
     "name": "stdout",
     "output_type": "stream",
     "text": [
      "Number of resources: 2 \n",
      "Number of destinations: 2\n"
     ]
    }
   ],
   "source": [
    "m = len(tm.index[:-2])\n",
    "n = len(tm.columns[:-2])\n",
    "\n",
    "print('Number of resources: {:d} \\nNumber of destinations: {:d}'.format(m, n))"
   ]
  },
  {
   "cell_type": "code",
   "execution_count": 19,
   "id": "d93f6425",
   "metadata": {},
   "outputs": [],
   "source": [
    "# rows penalty\n",
    "for i in tm.index[:m]:\n",
    "    lc_r = tm.loc[i][:n].min()\n",
    "    if n == 2:\n",
    "        tm.loc[i, 'Penalty'] = (tm.loc[i][:n] - lc_r).sum()\n",
    "    else:\n",
    "        tm.loc[i, 'Penalty'] = (tm.loc[i][:n] - lc_r).sum()+m\n",
    "\n",
    "# columns penalty\n",
    "for j in tm.columns[:m]:\n",
    "    lc_c = tm[j][:m].min()\n",
    "    if m == 2:\n",
    "        tm.loc['Penalty', j] = (tm[j][:m] - lc_c).sum()\n",
    "    else:\n",
    "        tm.loc['Penalty', j] = (tm[j][:m] - lc_c).sum()+n"
   ]
  },
  {
   "cell_type": "code",
   "execution_count": 20,
   "id": "7f26151c",
   "metadata": {},
   "outputs": [
    {
     "data": {
      "text/html": [
       "<div>\n",
       "<style scoped>\n",
       "    .dataframe tbody tr th:only-of-type {\n",
       "        vertical-align: middle;\n",
       "    }\n",
       "\n",
       "    .dataframe tbody tr th {\n",
       "        vertical-align: top;\n",
       "    }\n",
       "\n",
       "    .dataframe thead th {\n",
       "        text-align: right;\n",
       "    }\n",
       "</style>\n",
       "<table border=\"1\" class=\"dataframe\">\n",
       "  <thead>\n",
       "    <tr style=\"text-align: right;\">\n",
       "      <th></th>\n",
       "      <th>D1</th>\n",
       "      <th>D3</th>\n",
       "      <th>Supply</th>\n",
       "      <th>Penalty</th>\n",
       "    </tr>\n",
       "    <tr>\n",
       "      <th>Index</th>\n",
       "      <th></th>\n",
       "      <th></th>\n",
       "      <th></th>\n",
       "      <th></th>\n",
       "    </tr>\n",
       "  </thead>\n",
       "  <tbody>\n",
       "    <tr>\n",
       "      <th>S1</th>\n",
       "      <td>6.0</td>\n",
       "      <td>10.0</td>\n",
       "      <td>150.0</td>\n",
       "      <td>4.0</td>\n",
       "    </tr>\n",
       "    <tr>\n",
       "      <th>S2</th>\n",
       "      <td>7.0</td>\n",
       "      <td>11.0</td>\n",
       "      <td>175.0</td>\n",
       "      <td>4.0</td>\n",
       "    </tr>\n",
       "    <tr>\n",
       "      <th>Demand</th>\n",
       "      <td>25.0</td>\n",
       "      <td>300.0</td>\n",
       "      <td>0.0</td>\n",
       "      <td>0.0</td>\n",
       "    </tr>\n",
       "    <tr>\n",
       "      <th>Penalty</th>\n",
       "      <td>1.0</td>\n",
       "      <td>1.0</td>\n",
       "      <td>52.0</td>\n",
       "      <td>0.0</td>\n",
       "    </tr>\n",
       "  </tbody>\n",
       "</table>\n",
       "</div>"
      ],
      "text/plain": [
       "           D1     D3  Supply  Penalty\n",
       "Index                                \n",
       "S1        6.0   10.0   150.0      4.0\n",
       "S2        7.0   11.0   175.0      4.0\n",
       "Demand   25.0  300.0     0.0      0.0\n",
       "Penalty   1.0    1.0    52.0      0.0"
      ]
     },
     "execution_count": 20,
     "metadata": {},
     "output_type": "execute_result"
    }
   ],
   "source": [
    "tm"
   ]
  },
  {
   "cell_type": "code",
   "execution_count": 21,
   "id": "f1d0b65e",
   "metadata": {},
   "outputs": [
    {
     "name": "stdout",
     "output_type": "stream",
     "text": [
      "Alocation to S2 and D1\n"
     ]
    }
   ],
   "source": [
    "# determine x_ij for alocation cost\n",
    "if len(tm['Penalty'][:m].unique()) > 0:\n",
    "    Si = tm['Supply'][:m][tm['Supply'][:m] == tm['Supply'][:m].max()].index[0]\n",
    "else:\n",
    "    max_rp = tm['Penalty'][:m].max()\n",
    "    Si = tm['Penalty'][:m][tm['Penalty'][:m] == tm['Penalty'][:m].max()].index[0]\n",
    "    Di = tm.loc['Demand'][:n][tm.loc['Demand'][:n] == tm.loc['Demand'][:n].min()].index[0]\n",
    "    \n",
    "print('Alocation to {:s} and {:s}'.format(Si, Dj))"
   ]
  },
  {
   "cell_type": "code",
   "execution_count": 22,
   "id": "2ede9a4d",
   "metadata": {},
   "outputs": [
    {
     "name": "stdout",
     "output_type": "stream",
     "text": [
      "Cost: 175\n"
     ]
    }
   ],
   "source": [
    "# Alocation cost\n",
    "Xij = tm.loc[Si, Dj]\n",
    "sup = tm.loc[Si, 'Supply']\n",
    "dem = tm.loc['Demand', Dj]\n",
    "\n",
    "if sup > dem:\n",
    "    value = Xij*dem\n",
    "    cost.append(value)\n",
    "    tm.loc[Si, 'Supply'] = sup - dem\n",
    "    tm = tm.drop(Dj, axis=1)\n",
    "else:\n",
    "    value = Xij*sup\n",
    "    cost.append(value)\n",
    "    tm.loc['Demand', Dj] = dem - sup\n",
    "    tm = tm.drop(Si, axis=0)\n",
    "\n",
    "print('Cost: {:.0f}'.format(value))"
   ]
  },
  {
   "cell_type": "code",
   "execution_count": 23,
   "id": "579b228d",
   "metadata": {},
   "outputs": [
    {
     "data": {
      "text/html": [
       "<div>\n",
       "<style scoped>\n",
       "    .dataframe tbody tr th:only-of-type {\n",
       "        vertical-align: middle;\n",
       "    }\n",
       "\n",
       "    .dataframe tbody tr th {\n",
       "        vertical-align: top;\n",
       "    }\n",
       "\n",
       "    .dataframe thead th {\n",
       "        text-align: right;\n",
       "    }\n",
       "</style>\n",
       "<table border=\"1\" class=\"dataframe\">\n",
       "  <thead>\n",
       "    <tr style=\"text-align: right;\">\n",
       "      <th></th>\n",
       "      <th>D3</th>\n",
       "      <th>Supply</th>\n",
       "      <th>Penalty</th>\n",
       "    </tr>\n",
       "    <tr>\n",
       "      <th>Index</th>\n",
       "      <th></th>\n",
       "      <th></th>\n",
       "      <th></th>\n",
       "    </tr>\n",
       "  </thead>\n",
       "  <tbody>\n",
       "    <tr>\n",
       "      <th>S1</th>\n",
       "      <td>10.0</td>\n",
       "      <td>150.0</td>\n",
       "      <td>4.0</td>\n",
       "    </tr>\n",
       "    <tr>\n",
       "      <th>S2</th>\n",
       "      <td>11.0</td>\n",
       "      <td>150.0</td>\n",
       "      <td>4.0</td>\n",
       "    </tr>\n",
       "    <tr>\n",
       "      <th>Demand</th>\n",
       "      <td>300.0</td>\n",
       "      <td>0.0</td>\n",
       "      <td>0.0</td>\n",
       "    </tr>\n",
       "    <tr>\n",
       "      <th>Penalty</th>\n",
       "      <td>1.0</td>\n",
       "      <td>52.0</td>\n",
       "      <td>0.0</td>\n",
       "    </tr>\n",
       "  </tbody>\n",
       "</table>\n",
       "</div>"
      ],
      "text/plain": [
       "            D3  Supply  Penalty\n",
       "Index                          \n",
       "S1        10.0   150.0      4.0\n",
       "S2        11.0   150.0      4.0\n",
       "Demand   300.0     0.0      0.0\n",
       "Penalty    1.0    52.0      0.0"
      ]
     },
     "execution_count": 23,
     "metadata": {},
     "output_type": "execute_result"
    }
   ],
   "source": [
    "tm"
   ]
  },
  {
   "cell_type": "markdown",
   "id": "f3577b26",
   "metadata": {},
   "source": [
    "## Forth iteration"
   ]
  },
  {
   "cell_type": "code",
   "execution_count": 24,
   "id": "37bc422a",
   "metadata": {},
   "outputs": [
    {
     "name": "stdout",
     "output_type": "stream",
     "text": [
      "Number of resources: 2 \n",
      "Number of destinations: 1\n"
     ]
    }
   ],
   "source": [
    "m = len(tm.index[:-2])\n",
    "n = len(tm.columns[:-2])\n",
    "\n",
    "print('Number of resources: {:d} \\nNumber of destinations: {:d}'.format(m, n))"
   ]
  },
  {
   "cell_type": "code",
   "execution_count": 25,
   "id": "5eeef1ce",
   "metadata": {},
   "outputs": [],
   "source": [
    "# rows penalty\n",
    "for i in tm.index[:m]:\n",
    "    lc_r = tm.loc[i][:n].min()\n",
    "    if n == 1:\n",
    "        tm.loc[i, 'Penalty'] = tm.loc[i][:n][0]\n",
    "    elif n == 2:\n",
    "        tm.loc[i, 'Penalty'] = (tm.loc[i][:n] - lc_r).sum()\n",
    "    else:\n",
    "        tm.loc[i, 'Penalty'] = (tm.loc[i][:n] - lc_r).sum()+m\n",
    "\n",
    "# columns penalty\n",
    "for j in tm.columns[:m]:\n",
    "    lc_c = tm[j][:m].min()\n",
    "    if m == 1:\n",
    "        tm.loc['Penalty', j] = tm[j][:n][0]\n",
    "    elif m == 2:\n",
    "        tm.loc['Penalty', j] = (tm[j][:m] - lc_c).sum()\n",
    "    else:\n",
    "        tm.loc['Penalty', j] = (tm[j][:m] - lc_c).sum()+n"
   ]
  },
  {
   "cell_type": "code",
   "execution_count": 26,
   "id": "b1ab6b37",
   "metadata": {},
   "outputs": [
    {
     "data": {
      "text/html": [
       "<div>\n",
       "<style scoped>\n",
       "    .dataframe tbody tr th:only-of-type {\n",
       "        vertical-align: middle;\n",
       "    }\n",
       "\n",
       "    .dataframe tbody tr th {\n",
       "        vertical-align: top;\n",
       "    }\n",
       "\n",
       "    .dataframe thead th {\n",
       "        text-align: right;\n",
       "    }\n",
       "</style>\n",
       "<table border=\"1\" class=\"dataframe\">\n",
       "  <thead>\n",
       "    <tr style=\"text-align: right;\">\n",
       "      <th></th>\n",
       "      <th>D3</th>\n",
       "      <th>Supply</th>\n",
       "      <th>Penalty</th>\n",
       "    </tr>\n",
       "    <tr>\n",
       "      <th>Index</th>\n",
       "      <th></th>\n",
       "      <th></th>\n",
       "      <th></th>\n",
       "    </tr>\n",
       "  </thead>\n",
       "  <tbody>\n",
       "    <tr>\n",
       "      <th>S1</th>\n",
       "      <td>10.0</td>\n",
       "      <td>150.0</td>\n",
       "      <td>10.0</td>\n",
       "    </tr>\n",
       "    <tr>\n",
       "      <th>S2</th>\n",
       "      <td>11.0</td>\n",
       "      <td>150.0</td>\n",
       "      <td>11.0</td>\n",
       "    </tr>\n",
       "    <tr>\n",
       "      <th>Demand</th>\n",
       "      <td>300.0</td>\n",
       "      <td>0.0</td>\n",
       "      <td>0.0</td>\n",
       "    </tr>\n",
       "    <tr>\n",
       "      <th>Penalty</th>\n",
       "      <td>1.0</td>\n",
       "      <td>0.0</td>\n",
       "      <td>0.0</td>\n",
       "    </tr>\n",
       "  </tbody>\n",
       "</table>\n",
       "</div>"
      ],
      "text/plain": [
       "            D3  Supply  Penalty\n",
       "Index                          \n",
       "S1        10.0   150.0     10.0\n",
       "S2        11.0   150.0     11.0\n",
       "Demand   300.0     0.0      0.0\n",
       "Penalty    1.0     0.0      0.0"
      ]
     },
     "execution_count": 26,
     "metadata": {},
     "output_type": "execute_result"
    }
   ],
   "source": [
    "tm"
   ]
  },
  {
   "cell_type": "code",
   "execution_count": 27,
   "id": "3e9f59ad",
   "metadata": {},
   "outputs": [
    {
     "name": "stdout",
     "output_type": "stream",
     "text": [
      "Alocation to S2 and D3\n"
     ]
    }
   ],
   "source": [
    "# determine x_ij for alocation cost\n",
    "max_rp = tm['Penalty'][:m].max()\n",
    "Si = tm['Penalty'][:m][tm['Penalty'][:m] == tm['Penalty'][:m].max()].index[0]\n",
    "\n",
    "max_cp = tm.loc['Penalty'][:n].max()\n",
    "Dj = tm.loc['Penalty'][:n][tm.loc['Penalty'][:n] == tm.loc['Penalty'][:n].max()].index[0]\n",
    "\n",
    "print('Alocation to {:s} and {:s}'.format(Si, Dj))"
   ]
  },
  {
   "cell_type": "code",
   "execution_count": 28,
   "id": "112c5969",
   "metadata": {},
   "outputs": [
    {
     "name": "stdout",
     "output_type": "stream",
     "text": [
      "Cost: 1650\n"
     ]
    }
   ],
   "source": [
    "# Alocation cost\n",
    "Xij = tm.loc[Si, Dj]\n",
    "sup = tm.loc[Si, 'Supply']\n",
    "dem = tm.loc['Demand', Dj]\n",
    "\n",
    "if sup > dem:\n",
    "    value = Xij*dem\n",
    "    cost.append(value)\n",
    "    tm.loc[Si, 'Supply'] = sup - dem\n",
    "    tm = tm.drop(Dj, axis=1)\n",
    "else:\n",
    "    value = Xij*sup\n",
    "    cost.append(value)\n",
    "    tm.loc['Demand', Dj] = dem - sup\n",
    "    tm = tm.drop(Si, axis=0)\n",
    "\n",
    "print('Cost: {:.0f}'.format(value))"
   ]
  },
  {
   "cell_type": "code",
   "execution_count": 29,
   "id": "735c6c55",
   "metadata": {},
   "outputs": [
    {
     "data": {
      "text/html": [
       "<div>\n",
       "<style scoped>\n",
       "    .dataframe tbody tr th:only-of-type {\n",
       "        vertical-align: middle;\n",
       "    }\n",
       "\n",
       "    .dataframe tbody tr th {\n",
       "        vertical-align: top;\n",
       "    }\n",
       "\n",
       "    .dataframe thead th {\n",
       "        text-align: right;\n",
       "    }\n",
       "</style>\n",
       "<table border=\"1\" class=\"dataframe\">\n",
       "  <thead>\n",
       "    <tr style=\"text-align: right;\">\n",
       "      <th></th>\n",
       "      <th>D3</th>\n",
       "      <th>Supply</th>\n",
       "      <th>Penalty</th>\n",
       "    </tr>\n",
       "    <tr>\n",
       "      <th>Index</th>\n",
       "      <th></th>\n",
       "      <th></th>\n",
       "      <th></th>\n",
       "    </tr>\n",
       "  </thead>\n",
       "  <tbody>\n",
       "    <tr>\n",
       "      <th>S1</th>\n",
       "      <td>10.0</td>\n",
       "      <td>150.0</td>\n",
       "      <td>10.0</td>\n",
       "    </tr>\n",
       "    <tr>\n",
       "      <th>Demand</th>\n",
       "      <td>150.0</td>\n",
       "      <td>0.0</td>\n",
       "      <td>0.0</td>\n",
       "    </tr>\n",
       "    <tr>\n",
       "      <th>Penalty</th>\n",
       "      <td>1.0</td>\n",
       "      <td>0.0</td>\n",
       "      <td>0.0</td>\n",
       "    </tr>\n",
       "  </tbody>\n",
       "</table>\n",
       "</div>"
      ],
      "text/plain": [
       "            D3  Supply  Penalty\n",
       "Index                          \n",
       "S1        10.0   150.0     10.0\n",
       "Demand   150.0     0.0      0.0\n",
       "Penalty    1.0     0.0      0.0"
      ]
     },
     "execution_count": 29,
     "metadata": {},
     "output_type": "execute_result"
    }
   ],
   "source": [
    "tm"
   ]
  },
  {
   "cell_type": "markdown",
   "id": "32f3f579",
   "metadata": {},
   "source": [
    "## Final Iteration"
   ]
  },
  {
   "cell_type": "code",
   "execution_count": 30,
   "id": "a0f3d9bb",
   "metadata": {},
   "outputs": [
    {
     "name": "stdout",
     "output_type": "stream",
     "text": [
      "Number of resources: 1 \n",
      "Number of destinations: 1\n"
     ]
    }
   ],
   "source": [
    "m = len(tm.index[:-2])\n",
    "n = len(tm.columns[:-2])\n",
    "\n",
    "print('Number of resources: {:d} \\nNumber of destinations: {:d}'.format(m, n))"
   ]
  },
  {
   "cell_type": "code",
   "execution_count": 31,
   "id": "259bf175",
   "metadata": {},
   "outputs": [
    {
     "name": "stdout",
     "output_type": "stream",
     "text": [
      "Alocation to S1 and D3\n"
     ]
    }
   ],
   "source": [
    "Si = tm.index[:m][0]\n",
    "Dj = tm.columns[:n][0]\n",
    "print('Alocation to {:s} and {:s}'.format(Si, Dj))"
   ]
  },
  {
   "cell_type": "code",
   "execution_count": 32,
   "id": "830e58bf",
   "metadata": {},
   "outputs": [
    {
     "name": "stdout",
     "output_type": "stream",
     "text": [
      "Cost: 1500\n"
     ]
    }
   ],
   "source": [
    "Xij = tm.loc[Si, Dj]\n",
    "sup = tm.loc[Si, 'Supply']\n",
    "dem = tm.loc['Demand', Dj]\n",
    "\n",
    "value = Xij*dem\n",
    "cost.append(value)\n",
    "print('Cost: {:.0f}'.format(value))"
   ]
  },
  {
   "cell_type": "markdown",
   "id": "41ad61d7",
   "metadata": {},
   "source": [
    "## Totsl Cost"
   ]
  },
  {
   "cell_type": "code",
   "execution_count": 33,
   "id": "b44719f2",
   "metadata": {},
   "outputs": [
    {
     "name": "stdout",
     "output_type": "stream",
     "text": [
      "Total Cost: 4525\n"
     ]
    }
   ],
   "source": [
    "tot_cost = np.array(cost).sum()\n",
    "print('Total Cost: {:.0f}'.format(tot_cost))"
   ]
  },
  {
   "cell_type": "code",
   "execution_count": null,
   "id": "7c341a0d",
   "metadata": {},
   "outputs": [],
   "source": []
  },
  {
   "cell_type": "code",
   "execution_count": null,
   "id": "6deccbcf",
   "metadata": {},
   "outputs": [],
   "source": []
  },
  {
   "cell_type": "code",
   "execution_count": null,
   "id": "f3b55c0e",
   "metadata": {},
   "outputs": [],
   "source": []
  }
 ],
 "metadata": {
  "kernelspec": {
   "display_name": "Python 3 (ipykernel)",
   "language": "python",
   "name": "python3"
  },
  "language_info": {
   "codemirror_mode": {
    "name": "ipython",
    "version": 3
   },
   "file_extension": ".py",
   "mimetype": "text/x-python",
   "name": "python",
   "nbconvert_exporter": "python",
   "pygments_lexer": "ipython3",
   "version": "3.9.7"
  }
 },
 "nbformat": 4,
 "nbformat_minor": 5
}
