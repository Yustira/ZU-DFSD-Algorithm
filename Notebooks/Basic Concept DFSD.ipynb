{
 "cells": [
  {
   "cell_type": "markdown",
   "id": "f96b7b5f-ea54-4e60-97a2-b9b122af1564",
   "metadata": {},
   "source": [
    "# **The Basic Concept of Difference Form Standard Deviation**\n",
    "By: Iyas Yustira, Dena Supriyanto\n",
    "\n",
    "Reference: [Ravi, J. & Selvapandian, Dickson & Akila, R & Sathya, K. (2019). An Optimal Solution for Transportation problem-DFSD 1. Journal of Computational Mathematica. 3. 43. 10.26524/cm46.](https://www.researchgate.net/publication/333894284_An_Optimal_Solution_for_Transportation_problem-DFSD_1)"
   ]
  },
  {
   "cell_type": "markdown",
   "id": "fc4a2b43-c790-4788-918a-5b15ed085835",
   "metadata": {},
   "source": [
    "## **DFSD Method**\n",
    "\n",
    "**Row penalty**\n",
    "\n",
    "for $i=1,2,3,\\cdots,m$\n",
    "\n",
    "$$\\sigma_i = \\sqrt{\\frac{\\sum_j^n (x_j - \\bar{x_i})^2}{n}}$$\n",
    "\n",
    "**Column penalty**\n",
    "\n",
    "for $j=1,2,3,\\cdots,n$\n",
    "\n",
    "$$\\sigma_j = \\sqrt{\\frac{\\sum_i^m (x_i - \\bar{x_j})^2}{m}}$$\n",
    "\n",
    "Where, m is the number of rows, n is the number of columns and x is the corresponding row/column values"
   ]
  },
  {
   "cell_type": "markdown",
   "id": "4688e69c-10d2-4c1b-b8ed-e6b317fcc1c9",
   "metadata": {},
   "source": [
    "## **DFSD Algorithm**\n",
    "\n",
    "The result of DFSD method the smallest unit cost element in the row/column (cell) from the immediate next smallest unit cost element in the same row/column is determining a penalty measure for the target\n",
    "row/column.\n",
    "\n",
    "i). This step includes the following sub-steps:\n",
    "\n",
    "* Identify the row or the column that includes the largest penalty.\n",
    "* Break ties arbitrarily\n",
    "* As much as possible, the lowest cost row/column (cell) in the row or column should be allocated with the highest difference.\n",
    "* Adjust the supply and demand, and then cross out the satisfied row or column.\n",
    "* If a row and column are satisfied simultaneously, then only one of them is crossed out, as well the remains rows or columns are assigned to supply as zero (demand).\n",
    "\n",
    "\n",
    "ii). Finally, the result should be computed as follows:\n",
    "\n",
    "* If a row or a column is assigned as zero supply, or demand remains uncrossed out, then stop the process.\n",
    "* If one row/column with positive supply (demand) remains uncrossed out, then determine the basic variables in the row/column by the lowest cost method, and then stop.\n",
    "* If all the uncrossed out rows and columns have (remaining) zero supply and demand then determine the zero basic variables by the lowest cost method and stop.\n",
    "* Otherwise, go to step (i)."
   ]
  },
  {
   "cell_type": "markdown",
   "id": "1326d559-e6b4-4f13-9d20-e76d2a110498",
   "metadata": {},
   "source": [
    "## **Build The ALgorithm**"
   ]
  },
  {
   "cell_type": "markdown",
   "id": "80015e7a-e35a-42d3-a7be-18d2f731f677",
   "metadata": {},
   "source": [
    "Let's consider this tranportation problem. Find the Optimal solution for the given T.P.\n",
    "\n",
    "<img src=\"img/table df.png\" width=350px>\n",
    "\n",
    "**Step 1**\n",
    "\n",
    "Prepare the table."
   ]
  },
  {
   "cell_type": "code",
   "execution_count": 1,
   "id": "5a91c585-3a06-4182-8aa5-386ba02918f6",
   "metadata": {},
   "outputs": [
    {
     "data": {
      "text/html": [
       "<div>\n",
       "<style scoped>\n",
       "    .dataframe tbody tr th:only-of-type {\n",
       "        vertical-align: middle;\n",
       "    }\n",
       "\n",
       "    .dataframe tbody tr th {\n",
       "        vertical-align: top;\n",
       "    }\n",
       "\n",
       "    .dataframe thead th {\n",
       "        text-align: right;\n",
       "    }\n",
       "</style>\n",
       "<table border=\"1\" class=\"dataframe\">\n",
       "  <thead>\n",
       "    <tr style=\"text-align: right;\">\n",
       "      <th></th>\n",
       "      <th>D1</th>\n",
       "      <th>D2</th>\n",
       "      <th>D3</th>\n",
       "      <th>D4</th>\n",
       "      <th>Supply</th>\n",
       "    </tr>\n",
       "    <tr>\n",
       "      <th>Index</th>\n",
       "      <th></th>\n",
       "      <th></th>\n",
       "      <th></th>\n",
       "      <th></th>\n",
       "      <th></th>\n",
       "    </tr>\n",
       "  </thead>\n",
       "  <tbody>\n",
       "    <tr>\n",
       "      <th>O1</th>\n",
       "      <td>4</td>\n",
       "      <td>7</td>\n",
       "      <td>8</td>\n",
       "      <td>3</td>\n",
       "      <td>10</td>\n",
       "    </tr>\n",
       "    <tr>\n",
       "      <th>O2</th>\n",
       "      <td>2</td>\n",
       "      <td>1</td>\n",
       "      <td>10</td>\n",
       "      <td>12</td>\n",
       "      <td>15</td>\n",
       "    </tr>\n",
       "    <tr>\n",
       "      <th>O3</th>\n",
       "      <td>7</td>\n",
       "      <td>8</td>\n",
       "      <td>3</td>\n",
       "      <td>4</td>\n",
       "      <td>10</td>\n",
       "    </tr>\n",
       "    <tr>\n",
       "      <th>Demand</th>\n",
       "      <td>7</td>\n",
       "      <td>10</td>\n",
       "      <td>6</td>\n",
       "      <td>12</td>\n",
       "      <td>0</td>\n",
       "    </tr>\n",
       "  </tbody>\n",
       "</table>\n",
       "</div>"
      ],
      "text/plain": [
       "        D1  D2  D3  D4  Supply\n",
       "Index                         \n",
       "O1       4   7   8   3      10\n",
       "O2       2   1  10  12      15\n",
       "O3       7   8   3   4      10\n",
       "Demand   7  10   6  12       0"
      ]
     },
     "execution_count": 1,
     "metadata": {},
     "output_type": "execute_result"
    }
   ],
   "source": [
    "import pandas as pd\n",
    "import numpy as np\n",
    "\n",
    "d = {'Index': ['O1', 'O2', 'O3', 'Demand'], \n",
    "     'D1': [4, 2, 7, 7],\n",
    "     'D2': [7, 1, 8, 10],\n",
    "     'D3': [8, 10, 3, 6],\n",
    "     'D4': [3, 12, 4, 12],\n",
    "     'Supply': [10, 15, 10, 0]}\n",
    "data = pd.DataFrame(data=d)\n",
    "data.set_index('Index', inplace=True)\n",
    "data"
   ]
  },
  {
   "cell_type": "markdown",
   "id": "1261a033-1ba0-4b97-ac71-aba1ed4443df",
   "metadata": {},
   "source": [
    "**Step 2**\n",
    "\n",
    "Check the balanced data using function below. \n",
    "\n",
    "For more detail about is_balanced() function see the **Step 2** in <a href=\"Basic Concept ZU.ipynb\">this notebook</a>."
   ]
  },
  {
   "cell_type": "code",
   "execution_count": 2,
   "id": "28cb5a3e-899d-4249-a560-af7489268d76",
   "metadata": {},
   "outputs": [],
   "source": [
    "def is_balanced(data):\n",
    "    sum_a = data['Supply'].sum()\n",
    "    sum_b = data.loc['Demand'].sum()\n",
    "\n",
    "    if sum_a < sum_b:\n",
    "        print('Supply < Demand : {:d} < {:d}'.format(sum_a, sum_b))\n",
    "        data_T = data.T\n",
    "        dm = data_T.pop('Demand')\n",
    "        data_T['Dum'] = np.zeros(len(dm)).astype(int)\n",
    "        data_T['Demand'] = dm\n",
    "        data = data_T.T\n",
    "        data.loc['Dum', 'Supply'] = sum_b - sum_a\n",
    "    elif sum_a > sum_b:\n",
    "        print('Supply > Demand : {:d} > {:d}'.format(sum_a, sum_b))\n",
    "        Supply = data.pop('Supply').reset_index()\n",
    "        data['Dum'] = np.zeros(len(data.index)).astype(int)\n",
    "        data['Supply'] = Supply.Supply.to_numpy()\n",
    "        data.loc['Demand', 'Dum'] = sum_a - sum_b\n",
    "    else: \n",
    "        print('Supply = Demand : {:d}'.format(sum_a))\n",
    "        pass\n",
    "    \n",
    "    return data"
   ]
  },
  {
   "cell_type": "code",
   "execution_count": 3,
   "id": "4d6668d3-2eee-46b4-a6f9-d4dd26ebf518",
   "metadata": {},
   "outputs": [
    {
     "name": "stdout",
     "output_type": "stream",
     "text": [
      "Supply = Demand : 35\n"
     ]
    }
   ],
   "source": [
    "data = is_balanced(data)"
   ]
  },
  {
   "cell_type": "markdown",
   "id": "45290215-d597-4792-81a0-229a639a5734",
   "metadata": {},
   "source": [
    "**Step 3**\n",
    "\n",
    "Calculate the penalty row/column using standard deviation equation. If the cell just one row/column then the penalty is itself."
   ]
  },
  {
   "cell_type": "code",
   "execution_count": 4,
   "id": "5d627f64-f655-4839-afc7-6318fdd425f3",
   "metadata": {},
   "outputs": [],
   "source": [
    "def penalty(data):\n",
    "    data['Penalty'] = np.zeros(data.shape[0]).astype(int)\n",
    "    data.loc['Penalty'] = np.zeros(data.shape[1]).astype(int)\n",
    "    \n",
    "    m = data.index[:-2]\n",
    "    n = data.columns[:-2]\n",
    "    \n",
    "    # row penalty\n",
    "    for i in m:\n",
    "        if len(n) == 1:\n",
    "            data.loc[i, 'Penalty'] = data.loc[i][:-2][0]\n",
    "        else:\n",
    "            data.loc[i, 'Penalty'] = np.round(data.loc[i][:-2].to_numpy().std(), 2)\n",
    "    \n",
    "    # column penalty\n",
    "    for j in n:\n",
    "        if len(m) == 1:\n",
    "            data.loc['Penalty', j] = data[j][:-2][0]\n",
    "        else:\n",
    "            data.loc['Penalty', j] = np.round(data[j][:-2].to_numpy().std(), 2)\n",
    "    \n",
    "    return data"
   ]
  },
  {
   "cell_type": "code",
   "execution_count": 5,
   "id": "47d9cf4b-f3ec-44bd-abdd-4d2f7a0398ce",
   "metadata": {},
   "outputs": [
    {
     "data": {
      "text/html": [
       "<div>\n",
       "<style scoped>\n",
       "    .dataframe tbody tr th:only-of-type {\n",
       "        vertical-align: middle;\n",
       "    }\n",
       "\n",
       "    .dataframe tbody tr th {\n",
       "        vertical-align: top;\n",
       "    }\n",
       "\n",
       "    .dataframe thead th {\n",
       "        text-align: right;\n",
       "    }\n",
       "</style>\n",
       "<table border=\"1\" class=\"dataframe\">\n",
       "  <thead>\n",
       "    <tr style=\"text-align: right;\">\n",
       "      <th></th>\n",
       "      <th>D1</th>\n",
       "      <th>D2</th>\n",
       "      <th>D3</th>\n",
       "      <th>D4</th>\n",
       "      <th>Supply</th>\n",
       "      <th>Penalty</th>\n",
       "    </tr>\n",
       "    <tr>\n",
       "      <th>Index</th>\n",
       "      <th></th>\n",
       "      <th></th>\n",
       "      <th></th>\n",
       "      <th></th>\n",
       "      <th></th>\n",
       "      <th></th>\n",
       "    </tr>\n",
       "  </thead>\n",
       "  <tbody>\n",
       "    <tr>\n",
       "      <th>O1</th>\n",
       "      <td>4.00</td>\n",
       "      <td>7.00</td>\n",
       "      <td>8.00</td>\n",
       "      <td>3.00</td>\n",
       "      <td>10</td>\n",
       "      <td>2.06</td>\n",
       "    </tr>\n",
       "    <tr>\n",
       "      <th>O2</th>\n",
       "      <td>2.00</td>\n",
       "      <td>1.00</td>\n",
       "      <td>10.00</td>\n",
       "      <td>12.00</td>\n",
       "      <td>15</td>\n",
       "      <td>4.82</td>\n",
       "    </tr>\n",
       "    <tr>\n",
       "      <th>O3</th>\n",
       "      <td>7.00</td>\n",
       "      <td>8.00</td>\n",
       "      <td>3.00</td>\n",
       "      <td>4.00</td>\n",
       "      <td>10</td>\n",
       "      <td>2.06</td>\n",
       "    </tr>\n",
       "    <tr>\n",
       "      <th>Demand</th>\n",
       "      <td>7.00</td>\n",
       "      <td>10.00</td>\n",
       "      <td>6.00</td>\n",
       "      <td>12.00</td>\n",
       "      <td>0</td>\n",
       "      <td>0.00</td>\n",
       "    </tr>\n",
       "    <tr>\n",
       "      <th>Penalty</th>\n",
       "      <td>2.05</td>\n",
       "      <td>3.09</td>\n",
       "      <td>2.94</td>\n",
       "      <td>4.03</td>\n",
       "      <td>0</td>\n",
       "      <td>0.00</td>\n",
       "    </tr>\n",
       "  </tbody>\n",
       "</table>\n",
       "</div>"
      ],
      "text/plain": [
       "           D1     D2     D3     D4  Supply  Penalty\n",
       "Index                                              \n",
       "O1       4.00   7.00   8.00   3.00      10     2.06\n",
       "O2       2.00   1.00  10.00  12.00      15     4.82\n",
       "O3       7.00   8.00   3.00   4.00      10     2.06\n",
       "Demand   7.00  10.00   6.00  12.00       0     0.00\n",
       "Penalty  2.05   3.09   2.94   4.03       0     0.00"
      ]
     },
     "execution_count": 5,
     "metadata": {},
     "output_type": "execute_result"
    }
   ],
   "source": [
    "data = penalty(data)\n",
    "data"
   ]
  },
  {
   "cell_type": "markdown",
   "id": "c1491cf2-c37c-4c74-8b87-1fda210e8684",
   "metadata": {},
   "source": [
    "**Step 4**\n",
    "\n",
    "Identify the row/column that includes the largest penalty for cost allocation. If there is tie between the largest penalty row/column, take the greatest least cost $(x_{ij})$ between them."
   ]
  },
  {
   "cell_type": "code",
   "execution_count": 6,
   "id": "7b5e0bb2-f534-45a5-98f3-014751e6c262",
   "metadata": {},
   "outputs": [],
   "source": [
    "def cell_allocation(data):\n",
    "    pr_max = data['Penalty'][:-2].max()\n",
    "    pc_max = data.loc['Penalty'][:-2].max()\n",
    "    \n",
    "    m = data[data['Penalty'] == pr_max].index\n",
    "    n = data.loc['Penalty'][data.loc['Penalty'] == pc_max].index\n",
    "    \n",
    "    glc = {}\n",
    "    if pr_max == pc_max:\n",
    "        for i in m:\n",
    "            glc[data.loc[i][:-2].min()] = i\n",
    "        for j in n:\n",
    "            glc[data[j][:-2].min()] = j\n",
    "        rc = glc[max(glc)]\n",
    "        if rc in m:\n",
    "            ri = rc\n",
    "            cj = data.loc[ri][:-2][data.loc[ri][:-2] == max(glc)].index[0]\n",
    "        else:\n",
    "            cj = rc\n",
    "            ri = data[cj][:-2][data[cj][:-2] == max(glc)].index[0]\n",
    "    elif pr_max > pc_max:\n",
    "        for i in m:\n",
    "            glc[data.loc[i][:-2].min()] = i\n",
    "        ri = glc[max(glc)]\n",
    "        cj = data.loc[ri][:-2][data.loc[ri][:-2] == max(glc)].index[0]\n",
    "    else:\n",
    "        for j in n:\n",
    "            glc[data[j][:-2].min()] = j\n",
    "        cj = glc[max(glc)]\n",
    "        ri = data[cj][:-2][data[cj][:-2] == max(glc)].index[0]\n",
    "        \n",
    "    print('Allocation to {:s} and {:s}'.format(ri, cj))\n",
    "    return ri, cj"
   ]
  },
  {
   "cell_type": "code",
   "execution_count": 7,
   "id": "08f17d26-a456-484c-a70c-d10d9a05741c",
   "metadata": {},
   "outputs": [
    {
     "name": "stdout",
     "output_type": "stream",
     "text": [
      "Allocation to O2 and D2\n"
     ]
    }
   ],
   "source": [
    "ri, cj = cell_allocation(data)"
   ]
  },
  {
   "cell_type": "markdown",
   "id": "4296919c-07f6-4e08-85d6-a4368b465056",
   "metadata": {},
   "source": [
    "**Step 5**\n",
    "\n",
    "Identify the minimum cost (Supply/Demand) based on the cell above and allocate to that cell. Then, crossed out the row/column if the corresponding row/column is zero.\n",
    "\n",
    "Similar, with the **step 5** in <a href=\"Basic Concept ZU.ipynb\">this notebook</a>."
   ]
  },
  {
   "cell_type": "code",
   "execution_count": 8,
   "id": "f9f54723-003d-4127-9fcc-8a6aad78c089",
   "metadata": {},
   "outputs": [],
   "source": [
    "def cost_allocation(ri, cj, data):\n",
    "    ai = data.loc[ri, 'Supply']\n",
    "    bi = data.loc['Demand', cj]\n",
    "    \n",
    "    if ai > bi:\n",
    "        val = (bi * data.loc[ri, cj]).astype(int)\n",
    "        cost.append(val)\n",
    "        data.loc[ri, 'Supply'] = ai - bi\n",
    "        data.drop(cj, axis=1, inplace=True)\n",
    "    else:\n",
    "        val = (ai * data.loc[ri, cj]).astype(int)\n",
    "        cost.append(val)\n",
    "        data.loc['Demand', cj] = bi - ai\n",
    "        data.drop(ri, axis=0, inplace=True)\n",
    "    print('Cost: {:d}'.format(val))\n",
    "    return data"
   ]
  },
  {
   "cell_type": "code",
   "execution_count": 9,
   "id": "06b413eb-ae08-4ea6-b51e-2ae469d63ff0",
   "metadata": {},
   "outputs": [
    {
     "name": "stdout",
     "output_type": "stream",
     "text": [
      "Cost: 10\n"
     ]
    }
   ],
   "source": [
    "cost = []\n",
    "data = cost_allocation(ri, cj, data)"
   ]
  },
  {
   "cell_type": "markdown",
   "id": "ff665ddc-c4fa-4d77-b3ae-4fefe7aad849",
   "metadata": {},
   "source": [
    "For the first iteration, we get the cost allocation is 10 with allocation to O2 and D2. \n",
    "\n",
    "### **Loop iteration**"
   ]
  },
  {
   "cell_type": "code",
   "execution_count": 10,
   "id": "34d39d52-12e9-4e57-b591-6612fefc3906",
   "metadata": {},
   "outputs": [
    {
     "name": "stdout",
     "output_type": "stream",
     "text": [
      "---------------\n",
      " Iteration: 2\n",
      "--------------- \n",
      "\n",
      "           D1     D3     D4  Supply  Penalty\n",
      "Index                                       \n",
      "O1       4.00   8.00   3.00      10     2.16\n",
      "O2       2.00  10.00  12.00       5     4.32\n",
      "O3       7.00   3.00   4.00      10     1.70\n",
      "Demand   7.00   6.00  12.00       0     0.00\n",
      "Penalty  2.05   2.94   4.03       0     0.00 \n",
      "\n",
      "Allocation to O2 and D1\n",
      "Cost: 10\n",
      "\n",
      "---------------\n",
      " Iteration: 3\n",
      "--------------- \n",
      "\n",
      "          D1   D3    D4  Supply  Penalty\n",
      "Index                                   \n",
      "O1       4.0  8.0   3.0      10     2.16\n",
      "O3       7.0  3.0   4.0      10     1.70\n",
      "Demand   2.0  6.0  12.0       0     0.00\n",
      "Penalty  1.5  2.5   0.5       0     0.00 \n",
      "\n",
      "Allocation to O3 and D3\n",
      "Cost: 18\n",
      "\n",
      "---------------\n",
      " Iteration: 4\n",
      "--------------- \n",
      "\n",
      "          D1    D4  Supply  Penalty\n",
      "Index                              \n",
      "O1       4.0   3.0      10      0.5\n",
      "O3       7.0   4.0       4      1.5\n",
      "Demand   2.0  12.0       0      0.0\n",
      "Penalty  1.5   0.5       0      0.0 \n",
      "\n",
      "Allocation to O1 and D1\n",
      "Cost: 8\n",
      "\n",
      "---------------\n",
      " Iteration: 5\n",
      "--------------- \n",
      "\n",
      "           D4  Supply  Penalty\n",
      "Index                         \n",
      "O1        3.0       8        3\n",
      "O3        4.0       4        4\n",
      "Demand   12.0       0        0\n",
      "Penalty   0.5       0        0 \n",
      "\n",
      "Allocation to O3 and D4\n",
      "Cost: 16\n",
      "\n",
      "---------------\n",
      " Iteration: 6\n",
      "--------------- \n",
      "\n",
      "          D4  Supply  Penalty\n",
      "Index                        \n",
      "O1       3.0       8        3\n",
      "Demand   8.0       0        0\n",
      "Penalty  3.0       0        0 \n",
      "\n",
      "Allocation to O1 and D4\n",
      "Cost: 24\n",
      "\n",
      "-----------------------\n",
      "  Total Cost: 86\n",
      "----------------------- \n",
      "\n"
     ]
    }
   ],
   "source": [
    "i = 1\n",
    "while True:\n",
    "    i += 1\n",
    "    print('-'*15)\n",
    "    print(' Iteration: {:d}'.format(i))\n",
    "    print('-'*15, '\\n')\n",
    "    data = penalty(data)\n",
    "    print(data, '\\n')\n",
    "    m = data.index[:-2]\n",
    "    n = data.columns[:-2]\n",
    "    if len(m) == 1 and len(n) == 1:\n",
    "        ri = m[0]\n",
    "        cj = n[0]\n",
    "        ai = data.loc[ri, 'Supply']\n",
    "        val = (ai * data.loc[ri, cj]).astype(int)\n",
    "        cost.append(val)\n",
    "        print('Allocation to {:s} and {:s}'.format(ri, cj))\n",
    "        print('Cost: {:d}'.format(val))\n",
    "        break\n",
    "    else:\n",
    "        ri, cj = cell_allocation(data)\n",
    "        data = cost_allocation(ri, cj, data)\n",
    "    print()\n",
    "print()\n",
    "print(\"-\"*23)\n",
    "print('  Total Cost: {:d}'.format(sum(cost)))\n",
    "print('-'*23, '\\n')"
   ]
  },
  {
   "cell_type": "code",
   "execution_count": null,
   "id": "a411fb33-9af8-4de7-b304-d8c57a09433a",
   "metadata": {},
   "outputs": [],
   "source": []
  }
 ],
 "metadata": {
  "kernelspec": {
   "display_name": "Python 3 (ipykernel)",
   "language": "python",
   "name": "python3"
  },
  "language_info": {
   "codemirror_mode": {
    "name": "ipython",
    "version": 3
   },
   "file_extension": ".py",
   "mimetype": "text/x-python",
   "name": "python",
   "nbconvert_exporter": "python",
   "pygments_lexer": "ipython3",
   "version": "3.10.4"
  }
 },
 "nbformat": 4,
 "nbformat_minor": 5
}
