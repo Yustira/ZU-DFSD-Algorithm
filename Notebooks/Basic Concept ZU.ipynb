{
 "cells": [
  {
   "cell_type": "markdown",
   "id": "29dfc929",
   "metadata": {},
   "source": [
    "# The Basic Concept of Zelibe Ugwuanyi Method\n",
    "*By: Iyas Yustira, Dena Supriyanto*\n",
    "\n",
    "**Reference**: [Zelibe, Samuel & Ugwuanyi, C. (2019). ON A NEW SOLUTION OF THE TRANSPORTATION PROBLEM](https://www.researchgate.net/publication/335972372_ON_A_NEW_SOLUTION_OF_THE_TRANSPORTATION_PROBLEM). \n",
    "\n",
    "## Model of a Transportation Problem"
   ]
  },
  {
   "cell_type": "markdown",
   "id": "9acb095a",
   "metadata": {},
   "source": [
    "$$Minimize \\hspace{0.3cm} Z = \\sum_{i=1}^{m} X_{ij} C_{ij}$$\n",
    "\n",
    "$$\\sum_{j=1}^n X_{ij} \\leq a_i, i = 1, 2, 3 \\dots, m \\hspace{0.3cm} (Demand \\hspace{0.3cm} constraint)$$\n",
    "\n",
    "$$\\sum_{i=1}^m X_{ij} \\geq b_j, j = 1, 2, 3, \\dots, n \\hspace{0.3cm} (Supply \\hspace{0.3cm} constraint) $$\n",
    "\n",
    "$$X_{ij} \\geq 0,1,2,3,\\dots,n$$"
   ]
  },
  {
   "cell_type": "markdown",
   "id": "bd97dc98",
   "metadata": {},
   "source": [
    "Where:\n",
    "* m is the number of resources.\n",
    "* n is the number of destinations.\n",
    "* $a_i$ is the capacity of i th source.\n",
    "* $b_j$ is the demand of j th destination.\n",
    "* $c_{ij}$ is the the unit transportation cost between $i_{th}$ source and $j_{th}$\n",
    "destination (in naira or as a distance in kilometers, miles, etc.)\n",
    "* $x_{ij}$ is the size of material transported between $i_{th}$ source and $j_{th}$\n",
    "destination (in tons, pounds, liters etc.)\n"
   ]
  },
  {
   "cell_type": "markdown",
   "id": "e370e4f3",
   "metadata": {},
   "source": [
    "A transportation problem is said to be unbalanced if and only if\n",
    "\n",
    "$$\\sum_{i=1} a_i \\neq \\sum_{i=1} b_j$$\n",
    "\n",
    "There are two cases:\n",
    "\n",
    "**Case (1)**\n",
    "$$\\sum_{i=1} a_i > \\sum_{i=1} b_j$$\n",
    "\n",
    "**Case (2)**\n",
    "$$\\sum_{i=1} a_i < \\sum_{i=1} b_j$$\n",
    "\n",
    "To balance the Transportation Problem,Introduce a dummy origin or source in the transportation table with a zero cost. The availability at this origin is:\n",
    "\n",
    "$$\\sum_{i=1} a_i - \\sum_{i=1} b_j = 0$$"
   ]
  },
  {
   "cell_type": "markdown",
   "id": "5fe746ab",
   "metadata": {},
   "source": [
    "## Table And Network Illustration\n",
    "1. The Transportation Network\n",
    "<img src=\"img/Transportation network.png\" width=350px>\n",
    "\n",
    "2. The Transportation Table\n",
    "<img src=\"img/Transportation Table.png\" width=350px>"
   ]
  },
  {
   "cell_type": "markdown",
   "id": "8c62a929",
   "metadata": {},
   "source": [
    "## Flowchart Solution of The Transportation Problem\n",
    "* The problem is formulated as a transportation model\n",
    "* Is the transportation model balanced?\n",
    "* If yes, go to next step else, add dummy to the rows or column.\n",
    "* Determine initial basic solutions.\n",
    "* Go to next step if the solution is optimized else Go to fourth step.\n",
    "* Using the optimal solution ,calculate the total transportation cost."
   ]
  },
  {
   "cell_type": "markdown",
   "id": "212d14ae",
   "metadata": {},
   "source": [
    "# NUMERICAL ILLUSTRATION"
   ]
  },
  {
   "cell_type": "markdown",
   "id": "2b0ba25a",
   "metadata": {},
   "source": [
    "## Transportation model"
   ]
  },
  {
   "cell_type": "markdown",
   "id": "3663f395",
   "metadata": {},
   "source": [
    "Consider the table where $X_{ij}$ is the number of\n",
    "wheat (in tons) transported from each grain house to each mill $(i, j = 1, 2, 3)$. The total transportation cost for each route is the objective function. The solution is the number of tons of wheat to be transported from house to mill so as to minimize total cost of transportation."
   ]
  },
  {
   "cell_type": "markdown",
   "id": "dd8837f9",
   "metadata": {},
   "source": [
    "**Step 1**: The transportation problem is formulated as a transportation model in a table as follows:"
   ]
  },
  {
   "cell_type": "code",
   "execution_count": 1,
   "id": "36bf3a47",
   "metadata": {},
   "outputs": [],
   "source": [
    "import pandas as pd\n",
    "import numpy as np"
   ]
  },
  {
   "cell_type": "code",
   "execution_count": 2,
   "id": "8c1757c8",
   "metadata": {
    "scrolled": true
   },
   "outputs": [
    {
     "data": {
      "text/html": [
       "<div>\n",
       "<style scoped>\n",
       "    .dataframe tbody tr th:only-of-type {\n",
       "        vertical-align: middle;\n",
       "    }\n",
       "\n",
       "    .dataframe tbody tr th {\n",
       "        vertical-align: top;\n",
       "    }\n",
       "\n",
       "    .dataframe thead th {\n",
       "        text-align: right;\n",
       "    }\n",
       "</style>\n",
       "<table border=\"1\" class=\"dataframe\">\n",
       "  <thead>\n",
       "    <tr style=\"text-align: right;\">\n",
       "      <th></th>\n",
       "      <th>D1</th>\n",
       "      <th>D2</th>\n",
       "      <th>D3</th>\n",
       "      <th>Supply</th>\n",
       "    </tr>\n",
       "    <tr>\n",
       "      <th>Index</th>\n",
       "      <th></th>\n",
       "      <th></th>\n",
       "      <th></th>\n",
       "      <th></th>\n",
       "    </tr>\n",
       "  </thead>\n",
       "  <tbody>\n",
       "    <tr>\n",
       "      <th>S1</th>\n",
       "      <td>6</td>\n",
       "      <td>8</td>\n",
       "      <td>10</td>\n",
       "      <td>150</td>\n",
       "    </tr>\n",
       "    <tr>\n",
       "      <th>S2</th>\n",
       "      <td>7</td>\n",
       "      <td>11</td>\n",
       "      <td>11</td>\n",
       "      <td>175</td>\n",
       "    </tr>\n",
       "    <tr>\n",
       "      <th>S3</th>\n",
       "      <td>4</td>\n",
       "      <td>5</td>\n",
       "      <td>12</td>\n",
       "      <td>275</td>\n",
       "    </tr>\n",
       "    <tr>\n",
       "      <th>Demand</th>\n",
       "      <td>200</td>\n",
       "      <td>100</td>\n",
       "      <td>300</td>\n",
       "      <td>0</td>\n",
       "    </tr>\n",
       "  </tbody>\n",
       "</table>\n",
       "</div>"
      ],
      "text/plain": [
       "         D1   D2   D3  Supply\n",
       "Index                        \n",
       "S1        6    8   10     150\n",
       "S2        7   11   11     175\n",
       "S3        4    5   12     275\n",
       "Demand  200  100  300       0"
      ]
     },
     "execution_count": 2,
     "metadata": {},
     "output_type": "execute_result"
    }
   ],
   "source": [
    "d = {'Index': ['S1', 'S2', 'S3', 'Demand'], \n",
    "     'D1': [6, 7, 4, 200],\n",
    "     'D2': [8, 11, 5, 100],\n",
    "     'D3': [10, 11, 12, 300],\n",
    "     'Supply': [150, 175, 275, 0]}\n",
    "data = pd.DataFrame(data=d)\n",
    "data.set_index('Index', inplace=True)\n",
    "data"
   ]
  },
  {
   "cell_type": "markdown",
   "id": "065a8de5",
   "metadata": {},
   "source": [
    "**Step 2**: The total supply and demand should have the same value, so the transportation model is a balanced data. If the transportation model is unbalanced data which is the total supply and demand does not have the same value, we should add a dummy into a row/column in order to make a balanced data. To check our transportation model whether it is balanced or unbalanced, we can use this function:"
   ]
  },
  {
   "cell_type": "code",
   "execution_count": 3,
   "id": "849a203e",
   "metadata": {},
   "outputs": [],
   "source": [
    "def is_balanced(data):\n",
    "    sum_a = data['Supply'].sum()\n",
    "    sum_b = data.loc['Demand'].sum()\n",
    "    if sum_a == sum_b: \n",
    "        print('Balanced data: ', sum_a)\n",
    "        pass\n",
    "    elif sum_a < sum_b:\n",
    "        print('Unbalanced data: total supply < total demand ({:d} < {:d})'.format(sum_a, sum_b))\n",
    "        data_T = data.T\n",
    "        dm = data_T.pop('Demand')\n",
    "        data_T['Dum'] = np.zeros(len(dm))\n",
    "        data_T['Demand'] = dm\n",
    "        data = data_T.T\n",
    "        data.loc['Dum', 'Supply'] = sum_b - sum_a\n",
    "    else:\n",
    "        print('Unbalanced data: total supply > total demand ({:d} < {:d})'.format(sum_a, sum_b))\n",
    "        Supply = data.pop('Supply').reset_index()\n",
    "        data['Dum'] = np.zeros(len(data.index))\n",
    "        data['Supply'] = Supply.Supply.to_numpy()\n",
    "        data.loc['Demand', 'Dum'] = sum_a - sum_b\n",
    "    return data"
   ]
  },
  {
   "cell_type": "code",
   "execution_count": 4,
   "id": "83e1433e",
   "metadata": {},
   "outputs": [
    {
     "name": "stdout",
     "output_type": "stream",
     "text": [
      "Balanced data:  600\n"
     ]
    },
    {
     "data": {
      "text/html": [
       "<div>\n",
       "<style scoped>\n",
       "    .dataframe tbody tr th:only-of-type {\n",
       "        vertical-align: middle;\n",
       "    }\n",
       "\n",
       "    .dataframe tbody tr th {\n",
       "        vertical-align: top;\n",
       "    }\n",
       "\n",
       "    .dataframe thead th {\n",
       "        text-align: right;\n",
       "    }\n",
       "</style>\n",
       "<table border=\"1\" class=\"dataframe\">\n",
       "  <thead>\n",
       "    <tr style=\"text-align: right;\">\n",
       "      <th></th>\n",
       "      <th>D1</th>\n",
       "      <th>D2</th>\n",
       "      <th>D3</th>\n",
       "      <th>Supply</th>\n",
       "    </tr>\n",
       "    <tr>\n",
       "      <th>Index</th>\n",
       "      <th></th>\n",
       "      <th></th>\n",
       "      <th></th>\n",
       "      <th></th>\n",
       "    </tr>\n",
       "  </thead>\n",
       "  <tbody>\n",
       "    <tr>\n",
       "      <th>S1</th>\n",
       "      <td>6</td>\n",
       "      <td>8</td>\n",
       "      <td>10</td>\n",
       "      <td>150</td>\n",
       "    </tr>\n",
       "    <tr>\n",
       "      <th>S2</th>\n",
       "      <td>7</td>\n",
       "      <td>11</td>\n",
       "      <td>11</td>\n",
       "      <td>175</td>\n",
       "    </tr>\n",
       "    <tr>\n",
       "      <th>S3</th>\n",
       "      <td>4</td>\n",
       "      <td>5</td>\n",
       "      <td>12</td>\n",
       "      <td>275</td>\n",
       "    </tr>\n",
       "    <tr>\n",
       "      <th>Demand</th>\n",
       "      <td>200</td>\n",
       "      <td>100</td>\n",
       "      <td>300</td>\n",
       "      <td>0</td>\n",
       "    </tr>\n",
       "  </tbody>\n",
       "</table>\n",
       "</div>"
      ],
      "text/plain": [
       "         D1   D2   D3  Supply\n",
       "Index                        \n",
       "S1        6    8   10     150\n",
       "S2        7   11   11     175\n",
       "S3        4    5   12     275\n",
       "Demand  200  100  300       0"
      ]
     },
     "execution_count": 4,
     "metadata": {},
     "output_type": "execute_result"
    }
   ],
   "source": [
    "is_balanced(data)"
   ]
  },
  {
   "cell_type": "markdown",
   "id": "4814b5cb",
   "metadata": {},
   "source": [
    "**Step 3**: Now we should determine the initial basic solution. First, we should calculate the penalty from each row and column. Then, find the largest penalty and allocate to the cell that has the least cost. If the penalty has a tie value between or in a row and column, allocate to the cell that has the greatest least cost.\n",
    "\n",
    "There are four case in determine the penalty:"
   ]
  },
  {
   "cell_type": "markdown",
   "id": "b81bec7f",
   "metadata": {},
   "source": [
    "**Case 1:**\n",
    "\n",
    "* Row penalty when $n \\geq 2$ and $m \\geq 2$\n",
    "$$ Rp_{i} = \\sum_{j=1}^{n} \\Big(x_{ij} - x_{i_{min}} \\Big) + n$$\n",
    "\n",
    "* Column penalty when $m \\geq 2$ and $n \\geq 2$\n",
    "$$ Cp_j = \\sum_{i=1}^{m} \\Big(x_{ij} - x_{j_{min}} \\Big) + m$$"
   ]
  },
  {
   "cell_type": "markdown",
   "id": "9a9a4d89-e416-4ffa-8cb4-9fb1a4ccad3a",
   "metadata": {},
   "source": [
    "**Case 2:**\n",
    "\n",
    "* Row penalty when $n = 2$ and $m \\leq 2$\n",
    "$$ Rp_i = \\sum_{j=1}^{n} \\Big(x_{ij} - x_{i_{min}} \\Big)$$\n",
    "\n",
    "* Column penalty when $m = 2$ and $n \\leq 2$\n",
    "$$ Cp_j = \\sum_{i=1}^{m} \\Big(x_{ij} - x_{j_{min}} \\Big)$$"
   ]
  },
  {
   "cell_type": "markdown",
   "id": "e014a507-5944-4426-8f83-43cb103abf9c",
   "metadata": {},
   "source": [
    "**Case 3:**\n",
    "\n",
    "* Row penalty when $n = 1$ and $m > 2$\n",
    "$$ Rp_i = x_{ij} + m $$\n",
    "\n",
    "* Column penalty when $m = 1$ and $n > 2$\n",
    "$$ Cp_j = x_{ij} + n$$"
   ]
  },
  {
   "cell_type": "markdown",
   "id": "cbb9c595-576b-4c0b-a964-25653cc78847",
   "metadata": {},
   "source": [
    "**Case 4:**\n",
    "\n",
    "* Row penalty when $n = 1$ and $m <= 2$\n",
    "$$ Rp_i = x_{ij} $$\n",
    "\n",
    "* Column penalty when $m = 1$ and $n <= 2$\n",
    "$$ Cp_j = x_{ij}$$"
   ]
  },
  {
   "cell_type": "markdown",
   "id": "4caabb82-d2b8-4565-932e-06fce5ee6993",
   "metadata": {},
   "source": [
    "$$i = 1, 2, 3, \\cdots m  \\hspace{0.5cm} (Number \\hspace{0.1cm} of \\hspace{0.1cm} Rows)$$\n",
    "\n",
    "$$j = 1, 2, 3, \\cdots n \\hspace{0.5cm} (Number \\hspace{0.1cm} of \\hspace{0.1cm} Columns)$$"
   ]
  },
  {
   "cell_type": "code",
   "execution_count": 5,
   "id": "6f0c45aa-07ca-4ffb-b3c8-75fe37367352",
   "metadata": {},
   "outputs": [],
   "source": [
    "def penalty(data):\n",
    "    data['Penalty'] = np.zeros(data.shape[0])\n",
    "    data.loc['Penalty'] = np.zeros(data.shape[1])\n",
    "    \n",
    "    m = data.index[:-2]    \n",
    "    n = data.columns[:-2]\n",
    "      \n",
    "    # Row penalty\n",
    "    if len(n) == 1 and len(m) <= 2:\n",
    "        for i in m:\n",
    "            data.loc[i, 'Penalty'] = data.loc[i][:-2].max()\n",
    "    elif len(n) == 1 and len(m) > 2:\n",
    "        for i in m:\n",
    "            data.loc[i, 'Penalty'] = data.loc[i][:-2].max() + len(m)\n",
    "    elif len(n) == 2 and len(m) <= 2:\n",
    "        for i in m:\n",
    "            xj_min = data.loc[i][:-2].min()\n",
    "            data.loc[i, 'Penalty'] = (data.loc[i][:-2] - xj_min).sum()  \n",
    "    else:\n",
    "        for i in m:\n",
    "            xj_min = data.loc[i][:-2].min()\n",
    "            data.loc[i, 'Penalty'] = (data.loc[i][:-2] - xj_min).sum() + len(m)\n",
    "    \n",
    "    # Column penalty\n",
    "    if len(m) == 1 and len(n) <= 2:\n",
    "        for j in n:\n",
    "            data.loc['Penalty', j] = data[j][:-2].max()\n",
    "    elif len(m) == 1 and len(n) > 2:\n",
    "        for j in n:\n",
    "            data.loc['Penalty', j] = data[j][:-2].max() + len(n)\n",
    "    elif len(m) == 2 and len(n) <= 2:\n",
    "        for j in n:\n",
    "            xi_min = data[j][:-2].min()\n",
    "            data.loc['Penalty', j] = (data[j][:-2] - xi_min).sum()\n",
    "    else:\n",
    "        for j in n:\n",
    "            xi_min = data[j][:-2].min()\n",
    "            data.loc['Penalty', j] = (data[j][:-2] - xi_min).sum() + len(n)\n",
    "        \n",
    "    return data"
   ]
  },
  {
   "cell_type": "code",
   "execution_count": 6,
   "id": "368f4ce6",
   "metadata": {
    "tags": []
   },
   "outputs": [],
   "source": [
    "def cell_allocation(data):\n",
    "    rp_max = data['Penalty'][:-2].max()\n",
    "    cp_max = data.loc['Penalty'][:-2].max()\n",
    "    \n",
    "    m = data['Penalty'][:-2][data['Penalty'][:-2] == rp_max].index\n",
    "    n = data.loc['Penalty'][:-2][data.loc['Penalty'][:-2] == cp_max].index\n",
    "    \n",
    "    glc_r = {}\n",
    "    glc_c = {}\n",
    "    \n",
    "    if rp_max == cp_max: \n",
    "        for i in m:\n",
    "            glc_r[data.loc[i][:-2].min()] = i\n",
    "        for j in n:\n",
    "            glc_c[data[j][:-2].min()] = j   \n",
    "        if max(glc_r) > max(glc_c):\n",
    "            Ri = glc_r[max(glc_r)]\n",
    "            Cj = data.loc[Ri][:-2][data.loc[Ri][:-2] == max(glc_r)].index[0]\n",
    "        else:\n",
    "            Cj = glc_c[max(glc_c)]\n",
    "            Ri = data[Cj][:-2][data[Cj][:-2] == max(glc_c)].index[0]\n",
    "    elif rp_max > cp_max:\n",
    "        for i in m:\n",
    "            glc_r[data.loc[i][:-2].min()] = i\n",
    "        Ri = glc_r[max(glc_r)]\n",
    "        Cj = data.loc[Ri][:-2][data.loc[Ri][:-2] == max(glc_r)].index[0]\n",
    "    else:\n",
    "        for j in n:\n",
    "            glc_c[data[j][:-2].min()] = j\n",
    "        Cj = glc_c[max(glc_c)]\n",
    "        Ri = data[Cj][:-2][data[Cj][:-2] == max(glc_c)].index[0]       \n",
    "    print('Alocation to {:s} and {:s}'.format(Ri, Cj))\n",
    "    return Ri, Cj"
   ]
  },
  {
   "cell_type": "code",
   "execution_count": 7,
   "id": "e7239c31",
   "metadata": {},
   "outputs": [],
   "source": [
    "def cost_allocation(data, Ri, Cj):\n",
    "    ai = data.loc[Ri, 'Supply']\n",
    "    bi = data.loc['Demand', Cj]\n",
    "    if ai > bi:\n",
    "        cost_val = data.loc['Demand', Cj] * data.loc[Ri, Cj]\n",
    "        cost.append(cost_val)\n",
    "        data.loc[Ri, 'Supply'] = data.loc[Ri, 'Supply'] - data.loc['Demand', Cj]\n",
    "        data.drop(Cj, axis=1, inplace=True)\n",
    "    else:\n",
    "        cost_val = data.loc[Ri, 'Supply'] * data.loc[Ri, Cj]\n",
    "        cost.append(cost_val)\n",
    "        data.loc['Demand', Cj] = data.loc['Demand', Cj] - data.loc[Ri, 'Supply']\n",
    "        data.drop(Ri, axis=0, inplace=True)\n",
    "    print('Cost: {:0.1f}'.format(cost_val))\n",
    "    return data"
   ]
  },
  {
   "cell_type": "markdown",
   "id": "0c6180a3",
   "metadata": {},
   "source": [
    "### First iteration"
   ]
  },
  {
   "cell_type": "code",
   "execution_count": 8,
   "id": "ef7f6775",
   "metadata": {},
   "outputs": [
    {
     "name": "stdout",
     "output_type": "stream",
     "text": [
      "Iteration: 1\n",
      "            D1     D2     D3  Supply  Penalty\n",
      "Index                                        \n",
      "S1         6.0    8.0   10.0   150.0      9.0\n",
      "S2         7.0   11.0   11.0   175.0     11.0\n",
      "S3         4.0    5.0   12.0   275.0     12.0\n",
      "Demand   200.0  100.0  300.0     0.0      0.0\n",
      "Penalty    8.0   12.0    6.0     0.0      0.0 \n",
      "\n",
      "Alocation to S3 and D2\n",
      "Cost: 500.0\n"
     ]
    },
    {
     "data": {
      "text/html": [
       "<div>\n",
       "<style scoped>\n",
       "    .dataframe tbody tr th:only-of-type {\n",
       "        vertical-align: middle;\n",
       "    }\n",
       "\n",
       "    .dataframe tbody tr th {\n",
       "        vertical-align: top;\n",
       "    }\n",
       "\n",
       "    .dataframe thead th {\n",
       "        text-align: right;\n",
       "    }\n",
       "</style>\n",
       "<table border=\"1\" class=\"dataframe\">\n",
       "  <thead>\n",
       "    <tr style=\"text-align: right;\">\n",
       "      <th></th>\n",
       "      <th>D1</th>\n",
       "      <th>D3</th>\n",
       "      <th>Supply</th>\n",
       "      <th>Penalty</th>\n",
       "    </tr>\n",
       "    <tr>\n",
       "      <th>Index</th>\n",
       "      <th></th>\n",
       "      <th></th>\n",
       "      <th></th>\n",
       "      <th></th>\n",
       "    </tr>\n",
       "  </thead>\n",
       "  <tbody>\n",
       "    <tr>\n",
       "      <th>S1</th>\n",
       "      <td>6.0</td>\n",
       "      <td>10.0</td>\n",
       "      <td>150.0</td>\n",
       "      <td>9.0</td>\n",
       "    </tr>\n",
       "    <tr>\n",
       "      <th>S2</th>\n",
       "      <td>7.0</td>\n",
       "      <td>11.0</td>\n",
       "      <td>175.0</td>\n",
       "      <td>11.0</td>\n",
       "    </tr>\n",
       "    <tr>\n",
       "      <th>S3</th>\n",
       "      <td>4.0</td>\n",
       "      <td>12.0</td>\n",
       "      <td>175.0</td>\n",
       "      <td>12.0</td>\n",
       "    </tr>\n",
       "    <tr>\n",
       "      <th>Demand</th>\n",
       "      <td>200.0</td>\n",
       "      <td>300.0</td>\n",
       "      <td>0.0</td>\n",
       "      <td>0.0</td>\n",
       "    </tr>\n",
       "    <tr>\n",
       "      <th>Penalty</th>\n",
       "      <td>8.0</td>\n",
       "      <td>6.0</td>\n",
       "      <td>0.0</td>\n",
       "      <td>0.0</td>\n",
       "    </tr>\n",
       "  </tbody>\n",
       "</table>\n",
       "</div>"
      ],
      "text/plain": [
       "            D1     D3  Supply  Penalty\n",
       "Index                                 \n",
       "S1         6.0   10.0   150.0      9.0\n",
       "S2         7.0   11.0   175.0     11.0\n",
       "S3         4.0   12.0   175.0     12.0\n",
       "Demand   200.0  300.0     0.0      0.0\n",
       "Penalty    8.0    6.0     0.0      0.0"
      ]
     },
     "execution_count": 8,
     "metadata": {},
     "output_type": "execute_result"
    }
   ],
   "source": [
    "cost = []\n",
    "i = 1\n",
    "print('Iteration:', i)\n",
    "penalty(data)\n",
    "print(data, '\\n')\n",
    "Ri, Cj = cell_allocation(data)\n",
    "cost_allocation(data, Ri, Cj)"
   ]
  },
  {
   "cell_type": "markdown",
   "id": "3d9e835d",
   "metadata": {},
   "source": [
    "### Second and other iteration\n",
    "\n",
    "Iteration will stop until the model reach the optimal solution"
   ]
  },
  {
   "cell_type": "code",
   "execution_count": 9,
   "id": "ee66a768",
   "metadata": {},
   "outputs": [
    {
     "name": "stdout",
     "output_type": "stream",
     "text": [
      "Iteration: 2\n",
      "            D1     D3  Supply  Penalty\n",
      "Index                                 \n",
      "S1         6.0   10.0   150.0      7.0\n",
      "S2         7.0   11.0   175.0      7.0\n",
      "S3         4.0   12.0   175.0     11.0\n",
      "Demand   200.0  300.0     0.0      0.0\n",
      "Penalty    7.0    5.0     0.0      0.0 \n",
      "\n",
      "Alocation to S3 and D1\n",
      "Cost: 700.0\n",
      "\n",
      "Iteration: 3\n",
      "           D1     D3  Supply  Penalty\n",
      "Index                                \n",
      "S1        6.0   10.0   150.0      4.0\n",
      "S2        7.0   11.0   175.0      4.0\n",
      "Demand   25.0  300.0     0.0      0.0\n",
      "Penalty   1.0    1.0     0.0      0.0 \n",
      "\n",
      "Alocation to S2 and D1\n",
      "Cost: 175.0\n",
      "\n",
      "Iteration: 4\n",
      "            D3  Supply  Penalty\n",
      "Index                          \n",
      "S1        10.0   150.0     10.0\n",
      "S2        11.0   150.0     11.0\n",
      "Demand   300.0     0.0      0.0\n",
      "Penalty    1.0     0.0      0.0 \n",
      "\n",
      "Alocation to S2 and D3\n",
      "Cost: 1650.0\n",
      "\n",
      "Iteration: 5\n",
      "            D3  Supply  Penalty\n",
      "Index                          \n",
      "S1        10.0   150.0     10.0\n",
      "Demand   150.0     0.0      0.0\n",
      "Penalty   10.0     0.0      0.0 \n",
      "\n",
      "Alocation to S1 and D3\n",
      "Cost: 1500.0\n",
      "\n",
      "Total cost: 4525.0\n"
     ]
    }
   ],
   "source": [
    "i = 1\n",
    "while True:\n",
    "    i += 1\n",
    "    m, n = data.index[:-2], data.columns[:-2]\n",
    "    print('Iteration:', i)\n",
    "    if len(m) == 1 and len(n) == 1:\n",
    "        if data['Supply'][:-2][0] == data.loc['Demand'][:-2][0]:\n",
    "            penalty(data)\n",
    "            print(data, '\\n')\n",
    "            cost_val = data.loc['Demand'][:-2][0] * data.loc[m[0]][:-2][0]\n",
    "            cost.append(cost_val)\n",
    "            print('Alocation to {:s} and {:s}'.format(m[0], n[0]))\n",
    "            print('Cost: {:0.1f}'.format(cost_val))\n",
    "        else:\n",
    "            print('Error, demand not equal with supply')\n",
    "        break\n",
    "    else:    \n",
    "        penalty(data)\n",
    "        print(data, '\\n')\n",
    "        Ri, Cj = cell_allocation(data)\n",
    "        cost_allocation(data, Ri, Cj)\n",
    "    print()\n",
    "print('\\nTotal cost:', sum(cost))"
   ]
  },
  {
   "cell_type": "code",
   "execution_count": null,
   "id": "ca7e19e2-1a3b-497f-b3d3-cc9b397ccb42",
   "metadata": {},
   "outputs": [],
   "source": []
  }
 ],
 "metadata": {
  "kernelspec": {
   "display_name": "Python 3 (ipykernel)",
   "language": "python",
   "name": "python3"
  },
  "language_info": {
   "codemirror_mode": {
    "name": "ipython",
    "version": 3
   },
   "file_extension": ".py",
   "mimetype": "text/x-python",
   "name": "python",
   "nbconvert_exporter": "python",
   "pygments_lexer": "ipython3",
   "version": "3.9.7"
  }
 },
 "nbformat": 4,
 "nbformat_minor": 5
}
